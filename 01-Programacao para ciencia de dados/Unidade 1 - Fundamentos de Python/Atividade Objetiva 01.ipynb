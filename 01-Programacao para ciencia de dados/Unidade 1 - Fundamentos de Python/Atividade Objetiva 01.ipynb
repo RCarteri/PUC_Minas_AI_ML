{
 "cells": [
  {
   "cell_type": "markdown",
   "metadata": {},
   "source": [
    "### Pergunta 1\n",
    "\n",
    "Suponha a seguinte declaração de uma lista:\n",
    "\n",
    "lista_aninhada = [ [1,2,3],[4,5,6,7],[8,9],[ [10,11,12], [13, 14, 15] ] ].\n",
    "\n",
    "Que instrução retornará o número 13?\n",
    "\n",
    "\n",
    "A) Todas as alternativas são inválidas.\n",
    "\n",
    "B) lista_aninhada[12]\n",
    "\n",
    "**C) lista_aninhada[3][1][0]**\n",
    "\n",
    "D) lista_aninhada[-3]"
   ]
  },
  {
   "cell_type": "code",
   "execution_count": 35,
   "metadata": {},
   "outputs": [
    {
     "name": "stdout",
     "output_type": "stream",
     "text": [
      "13\n"
     ]
    }
   ],
   "source": [
    "lista_aninhada = [[1,2,3],[4,5,6,7],[8,9],[[10,11,12],[13, 14, 15]]]\n",
    "print(lista_aninhada[3][1][0])"
   ]
  },
  {
   "cell_type": "markdown",
   "metadata": {},
   "source": [
    "### Pergunta 2\n",
    "\n",
    "A função reduce() possui esse nome pelo fato de reduzir uma lista com n elementos para apenas 1 elemento.\n",
    "\n",
    "\n",
    "A) Verdadeiro\n",
    "\n",
    "**B) Falso**"
   ]
  },
  {
   "cell_type": "code",
   "execution_count": 39,
   "metadata": {},
   "outputs": [
    {
     "name": "stdout",
     "output_type": "stream",
     "text": [
      "15\n",
      "<class 'int'>\n",
      "<class 'list'> 5\n"
     ]
    }
   ],
   "source": [
    "from functools import reduce\n",
    "numeros = [1,2,3,4,5]\n",
    "red = reduce(lambda n1, n2: n1 + n2, numeros)\n",
    "print(red)\n",
    "print(type(red))\n",
    "print(type(numeros), len(numeros))"
   ]
  },
  {
   "cell_type": "markdown",
   "metadata": {},
   "source": [
    "### Pergunta 3\n",
    "\n",
    "No código a seguir x = \"1978\", um valor está sendo atribuído à variável x. Ao executar o comando type(x), que tipo será retornado?\n",
    "\n",
    "**A) str**\n",
    "\n",
    "B) int\n",
    "\n",
    "C) Todas as alternativas estão corretas.\n",
    "\n",
    "D) string"
   ]
  },
  {
   "cell_type": "code",
   "execution_count": 34,
   "metadata": {},
   "outputs": [
    {
     "name": "stdout",
     "output_type": "stream",
     "text": [
      "<class 'str'>\n"
     ]
    }
   ],
   "source": [
    "x = \"1978\"\n",
    "print(type(x))"
   ]
  },
  {
   "cell_type": "markdown",
   "metadata": {},
   "source": [
    "## Pergunta 4\n",
    "\n",
    "Marque os identificadores válidos em Python.\n",
    "\n",
    "**A) __nome_aluno**\n",
    "\n",
    "B) $alário_func\n",
    "\n",
    "**C) XYZ**\n",
    "\n",
    "D) endereco entrega"
   ]
  },
  {
   "cell_type": "code",
   "execution_count": 33,
   "metadata": {},
   "outputs": [
    {
     "name": "stdout",
     "output_type": "stream",
     "text": [
      "[('__nome_aluno', True), ('$alário_func', False), ('XYZ', True), ('endereco entrega', False)]\n"
     ]
    }
   ],
   "source": [
    "options = [\"__nome_aluno\", \"$alário_func\", \"XYZ\", \"endereco entrega\"]\n",
    "is_identificador = [option.isidentifier() for option in options]\n",
    "print(list(zip(options, is_identificador)))"
   ]
  },
  {
   "cell_type": "markdown",
   "metadata": {},
   "source": [
    "## Pergunta 5\n",
    "\n",
    "Suponha que seja declarado o seguinte dicionário:\n",
    "\n",
    "    dic = { \"MG\": {\"Área\": 586522, \"População\": 21040662, \"Capital\": \"Belo Horizonte\"},\n",
    "\n",
    "        \"SP\": {\"Área\": 248222, \"População\": 45538936, \"Capital\": \"São Paulo\"},\n",
    "\n",
    "        \"RS\": {\"Área\": 281730, \"População\": 11329605, \"Capital\": \"XYZ\"} }\n",
    "\n",
    "Qual comando devemos utilizar para alterar a capital do Rio Grande do Sul de XYZ para Porto Alegre?\n",
    "\n",
    "\n",
    "**A) dic[\"RS\"][\"Capital\"] = \"Porto Alegre\"**\n",
    "\n",
    "B) dic{\"RS\"}{\"Capital\"} = \"Porto Alegre\"\n",
    "\n",
    "C) dic[2][2] = \"Porto Alegre\"\n",
    "\n",
    "D) dic[\"RS\"][\"XYZ\"] = \"Porto Alegre\""
   ]
  },
  {
   "cell_type": "code",
   "execution_count": 32,
   "metadata": {},
   "outputs": [
    {
     "name": "stdout",
     "output_type": "stream",
     "text": [
      "XYZ\n",
      "Porto Alegre\n"
     ]
    }
   ],
   "source": [
    "dic = { \"MG\": {\"Área\": 586522, \"População\": 21040662, \"Capital\": \"Belo Horizonte\"},\n",
    "           \"SP\": {\"Área\": 248222, \"População\": 45538936, \"Capital\": \"São Paulo\"},\n",
    "           \"RS\": {\"Área\": 281730, \"População\": 11329605, \"Capital\": \"XYZ\"} }\n",
    "\n",
    "print(dic[\"RS\"][\"Capital\"])\n",
    "dic[\"RS\"][\"Capital\"] = \"Porto Alegre\"\n",
    "print(dic[\"RS\"][\"Capital\"])"
   ]
  }
 ],
 "metadata": {
  "kernelspec": {
   "display_name": "Python 3",
   "language": "python",
   "name": "python3"
  },
  "language_info": {
   "codemirror_mode": {
    "name": "ipython",
    "version": 3
   },
   "file_extension": ".py",
   "mimetype": "text/x-python",
   "name": "python",
   "nbconvert_exporter": "python",
   "pygments_lexer": "ipython3",
   "version": "3.11.9"
  }
 },
 "nbformat": 4,
 "nbformat_minor": 2
}
