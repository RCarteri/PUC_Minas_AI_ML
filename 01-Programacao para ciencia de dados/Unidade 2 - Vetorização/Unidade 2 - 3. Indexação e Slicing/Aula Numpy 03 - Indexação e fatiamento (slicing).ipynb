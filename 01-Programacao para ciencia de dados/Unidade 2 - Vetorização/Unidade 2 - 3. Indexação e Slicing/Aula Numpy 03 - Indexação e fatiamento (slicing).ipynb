{
 "cells": [
  {
   "cell_type": "code",
   "execution_count": null,
   "metadata": {
    "collapsed": true
   },
   "outputs": [],
   "source": []
  },
  {
   "cell_type": "markdown",
   "metadata": {},
   "source": [
    "# Indexação e fatiamento (slicing)"
   ]
  },
  {
   "cell_type": "code",
   "execution_count": 1,
   "metadata": {
    "collapsed": true
   },
   "outputs": [],
   "source": [
    "# Importando o NumPy\n",
    "import numpy as np"
   ]
  },
  {
   "cell_type": "code",
   "execution_count": 2,
   "metadata": {},
   "outputs": [
    {
     "data": {
      "text/plain": [
       "array([4, 4, 8, 3, 3, 3, 6, 7, 7, 7])"
      ]
     },
     "execution_count": 2,
     "metadata": {},
     "output_type": "execute_result"
    }
   ],
   "source": [
    "# Cria um ndarray com 10 elementos entre 0 e 9\n",
    "a1D = np.random.randint(0, 10, 10)\n",
    "a1D"
   ]
  },
  {
   "cell_type": "code",
   "execution_count": 3,
   "metadata": {},
   "outputs": [
    {
     "data": {
      "text/plain": [
       "array([[ 58,  95,  45,  24,  15],\n",
       "       [100,  59,  41,   2,  43],\n",
       "       [ 48,  51,  65,  81,  49],\n",
       "       [ 87,  97,  30,  28,  31]])"
      ]
     },
     "execution_count": 3,
     "metadata": {},
     "output_type": "execute_result"
    }
   ],
   "source": [
    "a2D = np.random.randint(1, 101, (4,5)) # Cria um ndarray de 4 linhas x 5 colunas com elementos entre 1 e 100\n",
    "a2D"
   ]
  },
  {
   "cell_type": "code",
   "execution_count": 4,
   "metadata": {},
   "outputs": [
    {
     "data": {
      "text/plain": [
       "array([[[0.16416304, 0.03675595, 0.64858261, 0.24127851, 0.66235902],\n",
       "        [0.42341172, 0.82179755, 0.83839468, 0.99972187, 0.00921451],\n",
       "        [0.15991195, 0.50344771, 0.50345988, 0.48224493, 0.03509879],\n",
       "        [0.50551981, 0.20537035, 0.09255965, 0.76102855, 0.72310482]],\n",
       "\n",
       "       [[0.46057761, 0.57778226, 0.29896016, 0.12702409, 0.21890134],\n",
       "        [0.81535964, 0.20674744, 0.71977994, 0.90790432, 0.04077622],\n",
       "        [0.67512431, 0.36391203, 0.54395143, 0.58395841, 0.15251024],\n",
       "        [0.83544593, 0.17106912, 0.95177966, 0.38904965, 0.91118999]],\n",
       "\n",
       "       [[0.92658815, 0.6770264 , 0.92735042, 0.70725533, 0.55282373],\n",
       "        [0.16698611, 0.68721311, 0.08719852, 0.90405247, 0.39137554],\n",
       "        [0.02085785, 0.76043026, 0.45558854, 0.90483183, 0.92062908],\n",
       "        [0.86953142, 0.53992999, 0.95984249, 0.2983721 , 0.21814162]]])"
      ]
     },
     "execution_count": 4,
     "metadata": {},
     "output_type": "execute_result"
    }
   ],
   "source": [
    "a3D = np.random.random((3,4,5)) # Cria um ndarray de 3 páginas x 4 linhas x 5 colunas com elementos entre 0 e 1\n",
    "a3D"
   ]
  },
  {
   "cell_type": "markdown",
   "metadata": {},
   "source": [
    "### Acessando elementos específicos"
   ]
  },
  {
   "cell_type": "code",
   "execution_count": 5,
   "metadata": {},
   "outputs": [
    {
     "data": {
      "text/plain": [
       "array([4, 4, 8, 3, 3, 3, 6, 7, 7, 7])"
      ]
     },
     "execution_count": 5,
     "metadata": {},
     "output_type": "execute_result"
    }
   ],
   "source": [
    "# Acessando elementos de um ndarray de 1 dimensão\n",
    "a1D"
   ]
  },
  {
   "cell_type": "code",
   "execution_count": 6,
   "metadata": {},
   "outputs": [
    {
     "data": {
      "text/plain": [
       "4"
      ]
     },
     "execution_count": 6,
     "metadata": {},
     "output_type": "execute_result"
    }
   ],
   "source": [
    "# nome_do_array[índice]\n",
    "a1D[0]"
   ]
  },
  {
   "cell_type": "code",
   "execution_count": 7,
   "metadata": {},
   "outputs": [
    {
     "data": {
      "text/plain": [
       "8"
      ]
     },
     "execution_count": 7,
     "metadata": {},
     "output_type": "execute_result"
    }
   ],
   "source": [
    "a1D[2]"
   ]
  },
  {
   "cell_type": "code",
   "execution_count": 8,
   "metadata": {},
   "outputs": [
    {
     "data": {
      "text/plain": [
       "7"
      ]
     },
     "execution_count": 8,
     "metadata": {},
     "output_type": "execute_result"
    }
   ],
   "source": [
    "a1D[-1]"
   ]
  },
  {
   "cell_type": "code",
   "execution_count": 9,
   "metadata": {},
   "outputs": [
    {
     "data": {
      "text/plain": [
       "array([3, 4, 7])"
      ]
     },
     "execution_count": 9,
     "metadata": {},
     "output_type": "execute_result"
    }
   ],
   "source": [
    "indices = [3, 0, -1] # Definindo uma lista com os índices que se deseja acessar\n",
    "a1D[indices]"
   ]
  },
  {
   "cell_type": "code",
   "execution_count": 10,
   "metadata": {},
   "outputs": [
    {
     "data": {
      "text/plain": [
       "array([[ 58,  95,  45,  24,  15],\n",
       "       [100,  59,  41,   2,  43],\n",
       "       [ 48,  51,  65,  81,  49],\n",
       "       [ 87,  97,  30,  28,  31]])"
      ]
     },
     "execution_count": 10,
     "metadata": {},
     "output_type": "execute_result"
    }
   ],
   "source": [
    "# Acessando elementos de um ndarray de 2 dimensões\n",
    "a2D"
   ]
  },
  {
   "cell_type": "code",
   "execution_count": 11,
   "metadata": {},
   "outputs": [
    {
     "data": {
      "text/plain": [
       "41"
      ]
     },
     "execution_count": 11,
     "metadata": {},
     "output_type": "execute_result"
    }
   ],
   "source": [
    "# nome_da_matriz[linha][coluna]\n",
    "a2D[1][2]"
   ]
  },
  {
   "cell_type": "code",
   "execution_count": 12,
   "metadata": {},
   "outputs": [
    {
     "data": {
      "text/plain": [
       "31"
      ]
     },
     "execution_count": 12,
     "metadata": {},
     "output_type": "execute_result"
    }
   ],
   "source": [
    "a2D[3][4]"
   ]
  },
  {
   "cell_type": "code",
   "execution_count": 13,
   "metadata": {},
   "outputs": [
    {
     "data": {
      "text/plain": [
       "array([58, 59, 65, 28])"
      ]
     },
     "execution_count": 13,
     "metadata": {},
     "output_type": "execute_result"
    }
   ],
   "source": [
    "indice_lin = [0, 1, 2, 3]\n",
    "indice_col = [0, 1, 2, 3]\n",
    "\n",
    "a2D[indice_lin, indice_col]"
   ]
  },
  {
   "cell_type": "code",
   "execution_count": 14,
   "metadata": {},
   "outputs": [
    {
     "data": {
      "text/plain": [
       "array([24, 41, 51, 87])"
      ]
     },
     "execution_count": 14,
     "metadata": {},
     "output_type": "execute_result"
    }
   ],
   "source": [
    "indice_lin = [0, 1, 2, 3]\n",
    "indice_col = [3, 2, 1, 0]\n",
    "\n",
    "a2D[indice_lin, indice_col]"
   ]
  },
  {
   "cell_type": "code",
   "execution_count": 15,
   "metadata": {},
   "outputs": [
    {
     "data": {
      "text/plain": [
       "array([28, 65, 59, 58])"
      ]
     },
     "execution_count": 15,
     "metadata": {},
     "output_type": "execute_result"
    }
   ],
   "source": [
    "indice_lin = [3, 2, 1, 0]\n",
    "indice_col = [3, 2, 1, 0]\n",
    "\n",
    "a2D[indice_lin, indice_col]"
   ]
  },
  {
   "cell_type": "code",
   "execution_count": 16,
   "metadata": {},
   "outputs": [
    {
     "data": {
      "text/plain": [
       "array([[ 58,  95,  45,  58],\n",
       "       [100,  59,  41, 100],\n",
       "       [ 48,  51,  65,  48],\n",
       "       [ 87,  97,  30,  87]])"
      ]
     },
     "execution_count": 16,
     "metadata": {},
     "output_type": "execute_result"
    }
   ],
   "source": [
    "a2D[:,[0,1,2,0]] "
   ]
  },
  {
   "cell_type": "code",
   "execution_count": 17,
   "metadata": {},
   "outputs": [
    {
     "data": {
      "text/plain": [
       "array([[100,  59,  41, 100],\n",
       "       [ 58,  95,  45,  58],\n",
       "       [100,  59,  41, 100],\n",
       "       [ 58,  95,  45,  58]])"
      ]
     },
     "execution_count": 17,
     "metadata": {},
     "output_type": "execute_result"
    }
   ],
   "source": [
    "a2D[:,[0,1,2,0]][[1, 0, 1, 0]]"
   ]
  },
  {
   "cell_type": "code",
   "execution_count": 18,
   "metadata": {},
   "outputs": [
    {
     "data": {
      "text/plain": [
       "array([[ 58,  95,  45,  24,  15],\n",
       "       [100,  59,  41,   2,  43],\n",
       "       [ 48,  51,  65,  81,  49],\n",
       "       [ 87,  97,  30,  28,  31]])"
      ]
     },
     "execution_count": 18,
     "metadata": {},
     "output_type": "execute_result"
    }
   ],
   "source": [
    "a2D"
   ]
  },
  {
   "cell_type": "code",
   "execution_count": 19,
   "metadata": {},
   "outputs": [
    {
     "data": {
      "text/plain": [
       "array([[100,  59,  41, 100],\n",
       "       [ 58,  95,  45,  58],\n",
       "       [100,  59,  41, 100],\n",
       "       [ 58,  95,  45,  58]])"
      ]
     },
     "execution_count": 19,
     "metadata": {},
     "output_type": "execute_result"
    }
   ],
   "source": [
    "a2D[[1, 0, 1, 0]][:,[0,1,2,0]] "
   ]
  },
  {
   "cell_type": "code",
   "execution_count": 20,
   "metadata": {},
   "outputs": [
    {
     "data": {
      "text/plain": [
       "array([[[0.16416304, 0.03675595, 0.64858261, 0.24127851, 0.66235902],\n",
       "        [0.42341172, 0.82179755, 0.83839468, 0.99972187, 0.00921451],\n",
       "        [0.15991195, 0.50344771, 0.50345988, 0.48224493, 0.03509879],\n",
       "        [0.50551981, 0.20537035, 0.09255965, 0.76102855, 0.72310482]],\n",
       "\n",
       "       [[0.46057761, 0.57778226, 0.29896016, 0.12702409, 0.21890134],\n",
       "        [0.81535964, 0.20674744, 0.71977994, 0.90790432, 0.04077622],\n",
       "        [0.67512431, 0.36391203, 0.54395143, 0.58395841, 0.15251024],\n",
       "        [0.83544593, 0.17106912, 0.95177966, 0.38904965, 0.91118999]],\n",
       "\n",
       "       [[0.92658815, 0.6770264 , 0.92735042, 0.70725533, 0.55282373],\n",
       "        [0.16698611, 0.68721311, 0.08719852, 0.90405247, 0.39137554],\n",
       "        [0.02085785, 0.76043026, 0.45558854, 0.90483183, 0.92062908],\n",
       "        [0.86953142, 0.53992999, 0.95984249, 0.2983721 , 0.21814162]]])"
      ]
     },
     "execution_count": 20,
     "metadata": {},
     "output_type": "execute_result"
    }
   ],
   "source": [
    "# Acessando elementos de um ndarray de 3 dimensões\n",
    "a3D"
   ]
  },
  {
   "cell_type": "code",
   "execution_count": 21,
   "metadata": {},
   "outputs": [
    {
     "data": {
      "text/plain": [
       "0.7072553348408113"
      ]
     },
     "execution_count": 21,
     "metadata": {},
     "output_type": "execute_result"
    }
   ],
   "source": [
    "# nome_do_cubo[página][linha][coluna]\n",
    "a3D[2][0][3]"
   ]
  },
  {
   "cell_type": "code",
   "execution_count": 22,
   "metadata": {},
   "outputs": [
    {
     "data": {
      "text/plain": [
       "0.205370354358539"
      ]
     },
     "execution_count": 22,
     "metadata": {},
     "output_type": "execute_result"
    }
   ],
   "source": [
    "a3D[0][3][1]"
   ]
  },
  {
   "cell_type": "markdown",
   "metadata": {},
   "source": [
    "### Fatiamento (slicing)"
   ]
  },
  {
   "cell_type": "code",
   "execution_count": 23,
   "metadata": {},
   "outputs": [
    {
     "data": {
      "text/plain": [
       "array([4, 4, 8, 3, 3, 3, 6, 7, 7, 7])"
      ]
     },
     "execution_count": 23,
     "metadata": {},
     "output_type": "execute_result"
    }
   ],
   "source": [
    "# Array de 1 dimensão\n",
    "a1D"
   ]
  },
  {
   "cell_type": "code",
   "execution_count": 24,
   "metadata": {},
   "outputs": [
    {
     "data": {
      "text/plain": [
       "array([4, 8, 3, 3])"
      ]
     },
     "execution_count": 24,
     "metadata": {},
     "output_type": "execute_result"
    }
   ],
   "source": [
    "a = a1D[1:5] # Índice 1 ao 4\n",
    "a"
   ]
  },
  {
   "cell_type": "code",
   "execution_count": 25,
   "metadata": {},
   "outputs": [
    {
     "data": {
      "text/plain": [
       "array([4, 4, 8, 3, 3, 3])"
      ]
     },
     "execution_count": 25,
     "metadata": {},
     "output_type": "execute_result"
    }
   ],
   "source": [
    "b = a1D[0:6] # Índice 0 ao 5\n",
    "b"
   ]
  },
  {
   "cell_type": "code",
   "execution_count": 26,
   "metadata": {},
   "outputs": [
    {
     "data": {
      "text/plain": [
       "array([4, 4, 8, 3, 3, 3])"
      ]
     },
     "execution_count": 26,
     "metadata": {},
     "output_type": "execute_result"
    }
   ],
   "source": [
    "c = a1D[:6] # Do início ao 5\n",
    "c"
   ]
  },
  {
   "cell_type": "code",
   "execution_count": 27,
   "metadata": {},
   "outputs": [
    {
     "data": {
      "text/plain": [
       "array([4, 8, 3, 6, 7])"
      ]
     },
     "execution_count": 27,
     "metadata": {},
     "output_type": "execute_result"
    }
   ],
   "source": [
    "d = a1D[::2] # Do início ao fim, com passo 2\n",
    "d"
   ]
  },
  {
   "cell_type": "code",
   "execution_count": 28,
   "metadata": {},
   "outputs": [
    {
     "data": {
      "text/plain": [
       "array([7, 7, 7, 6, 3, 3, 3, 8, 4, 4])"
      ]
     },
     "execution_count": 28,
     "metadata": {},
     "output_type": "execute_result"
    }
   ],
   "source": [
    "e = a1D[-1::-1] # Do final até o início\n",
    "e"
   ]
  },
  {
   "cell_type": "code",
   "execution_count": 29,
   "metadata": {},
   "outputs": [
    {
     "data": {
      "text/plain": [
       "array([[ 58,  95,  45,  24,  15],\n",
       "       [100,  59,  41,   2,  43],\n",
       "       [ 48,  51,  65,  81,  49],\n",
       "       [ 87,  97,  30,  28,  31]])"
      ]
     },
     "execution_count": 29,
     "metadata": {},
     "output_type": "execute_result"
    }
   ],
   "source": [
    "# Array de 2 dimensões\n",
    "a2D"
   ]
  },
  {
   "cell_type": "code",
   "execution_count": 30,
   "metadata": {},
   "outputs": [
    {
     "data": {
      "text/plain": [
       "array([58, 95, 45, 24, 15])"
      ]
     },
     "execution_count": 30,
     "metadata": {},
     "output_type": "execute_result"
    }
   ],
   "source": [
    "linha0 = a2D[0] # Todos os elementos da linha 0 - outra forma seria: linha0 = a2D[0,:]\n",
    "linha0"
   ]
  },
  {
   "cell_type": "code",
   "execution_count": 31,
   "metadata": {},
   "outputs": [
    {
     "data": {
      "text/plain": [
       "array([100,  59,  41,   2,  43])"
      ]
     },
     "execution_count": 31,
     "metadata": {},
     "output_type": "execute_result"
    }
   ],
   "source": [
    "linha1 = a2D[1,:] # Todos os elementos da linha 1\n",
    "linha1"
   ]
  },
  {
   "cell_type": "code",
   "execution_count": 32,
   "metadata": {},
   "outputs": [
    {
     "data": {
      "text/plain": [
       "array([51, 65, 81])"
      ]
     },
     "execution_count": 32,
     "metadata": {},
     "output_type": "execute_result"
    }
   ],
   "source": [
    "linha2 = a2D[2,1:4] # Linha 2, colunas 1, 2 e 3\n",
    "linha2"
   ]
  },
  {
   "cell_type": "code",
   "execution_count": 33,
   "metadata": {},
   "outputs": [
    {
     "data": {
      "text/plain": [
       "array([87, 97, 30, 28, 31])"
      ]
     },
     "execution_count": 33,
     "metadata": {},
     "output_type": "execute_result"
    }
   ],
   "source": [
    "linha3 = a2D[:][3] # a2D[:] retorna toda a matriz, então de toda a matriz queremos a linha 3 a2D[:][3]\n",
    "linha3"
   ]
  },
  {
   "cell_type": "code",
   "execution_count": 34,
   "metadata": {},
   "outputs": [
    {
     "data": {
      "text/plain": [
       "array([45, 41, 65, 30])"
      ]
     },
     "execution_count": 34,
     "metadata": {},
     "output_type": "execute_result"
    }
   ],
   "source": [
    "coluna2 = a2D[:,2] # De todas as linhas, selecionar a coluna 2\n",
    "coluna2"
   ]
  },
  {
   "cell_type": "code",
   "execution_count": 35,
   "metadata": {},
   "outputs": [
    {
     "data": {
      "text/plain": [
       "array([ 2, 81, 28])"
      ]
     },
     "execution_count": 35,
     "metadata": {},
     "output_type": "execute_result"
    }
   ],
   "source": [
    "coluna3 = a2D[1:,3] # Da linha um até a última, selecionar a coluna 3\n",
    "coluna3"
   ]
  },
  {
   "cell_type": "code",
   "execution_count": 36,
   "metadata": {},
   "outputs": [
    {
     "data": {
      "text/plain": [
       "array([[[0.16416304, 0.03675595, 0.64858261, 0.24127851, 0.66235902],\n",
       "        [0.42341172, 0.82179755, 0.83839468, 0.99972187, 0.00921451],\n",
       "        [0.15991195, 0.50344771, 0.50345988, 0.48224493, 0.03509879],\n",
       "        [0.50551981, 0.20537035, 0.09255965, 0.76102855, 0.72310482]],\n",
       "\n",
       "       [[0.46057761, 0.57778226, 0.29896016, 0.12702409, 0.21890134],\n",
       "        [0.81535964, 0.20674744, 0.71977994, 0.90790432, 0.04077622],\n",
       "        [0.67512431, 0.36391203, 0.54395143, 0.58395841, 0.15251024],\n",
       "        [0.83544593, 0.17106912, 0.95177966, 0.38904965, 0.91118999]],\n",
       "\n",
       "       [[0.92658815, 0.6770264 , 0.92735042, 0.70725533, 0.55282373],\n",
       "        [0.16698611, 0.68721311, 0.08719852, 0.90405247, 0.39137554],\n",
       "        [0.02085785, 0.76043026, 0.45558854, 0.90483183, 0.92062908],\n",
       "        [0.86953142, 0.53992999, 0.95984249, 0.2983721 , 0.21814162]]])"
      ]
     },
     "execution_count": 36,
     "metadata": {},
     "output_type": "execute_result"
    }
   ],
   "source": [
    "# Array de 3 dimensões\n",
    "a3D"
   ]
  },
  {
   "cell_type": "code",
   "execution_count": 37,
   "metadata": {},
   "outputs": [
    {
     "data": {
      "text/plain": [
       "array([[0.46057761, 0.57778226, 0.29896016, 0.12702409, 0.21890134],\n",
       "       [0.81535964, 0.20674744, 0.71977994, 0.90790432, 0.04077622],\n",
       "       [0.67512431, 0.36391203, 0.54395143, 0.58395841, 0.15251024],\n",
       "       [0.83544593, 0.17106912, 0.95177966, 0.38904965, 0.91118999]])"
      ]
     },
     "execution_count": 37,
     "metadata": {},
     "output_type": "execute_result"
    }
   ],
   "source": [
    "# Acessando a página/face 1\n",
    "face1 = a3D[1]\n",
    "face1"
   ]
  },
  {
   "cell_type": "code",
   "execution_count": 38,
   "metadata": {},
   "outputs": [
    {
     "data": {
      "text/plain": [
       "array([[0.57778226, 0.29896016, 0.12702409],\n",
       "       [0.20674744, 0.71977994, 0.90790432],\n",
       "       [0.36391203, 0.54395143, 0.58395841]])"
      ]
     },
     "execution_count": 38,
     "metadata": {},
     "output_type": "execute_result"
    }
   ],
   "source": [
    "# Acessando uma parte da face1\n",
    "subface1 = a3D[1,0:3, 1:4]\n",
    "subface1"
   ]
  },
  {
   "cell_type": "code",
   "execution_count": 39,
   "metadata": {},
   "outputs": [
    {
     "data": {
      "text/plain": [
       "array([0.15991195, 0.50344771, 0.50345988, 0.48224493, 0.03509879])"
      ]
     },
     "execution_count": 39,
     "metadata": {},
     "output_type": "execute_result"
    }
   ],
   "source": [
    "linha2face0 = a3D[0,2] # outra forma: linha2face0 = a3D[0,2,:]\n",
    "linha2face0"
   ]
  },
  {
   "cell_type": "code",
   "execution_count": 40,
   "metadata": {},
   "outputs": [
    {
     "data": {
      "text/plain": [
       "array([[[0.16416304, 0.03675595, 0.64858261, 0.24127851, 0.66235902],\n",
       "        [0.42341172, 0.82179755, 0.83839468, 0.99972187, 0.00921451],\n",
       "        [0.15991195, 0.50344771, 0.50345988, 0.48224493, 0.03509879],\n",
       "        [0.50551981, 0.20537035, 0.09255965, 0.76102855, 0.72310482]],\n",
       "\n",
       "       [[0.46057761, 0.57778226, 0.29896016, 0.12702409, 0.21890134],\n",
       "        [0.81535964, 0.20674744, 0.71977994, 0.90790432, 0.04077622],\n",
       "        [0.67512431, 0.36391203, 0.54395143, 0.58395841, 0.15251024],\n",
       "        [0.83544593, 0.17106912, 0.95177966, 0.38904965, 0.91118999]],\n",
       "\n",
       "       [[0.92658815, 0.6770264 , 0.92735042, 0.70725533, 0.55282373],\n",
       "        [0.16698611, 0.68721311, 0.08719852, 0.90405247, 0.39137554],\n",
       "        [0.02085785, 0.76043026, 0.45558854, 0.90483183, 0.92062908],\n",
       "        [0.86953142, 0.53992999, 0.95984249, 0.2983721 , 0.21814162]]])"
      ]
     },
     "execution_count": 40,
     "metadata": {},
     "output_type": "execute_result"
    }
   ],
   "source": [
    "a3D"
   ]
  },
  {
   "cell_type": "code",
   "execution_count": 41,
   "metadata": {},
   "outputs": [
    {
     "data": {
      "text/plain": [
       "array([[0.42341172, 0.82179755, 0.83839468, 0.99972187, 0.00921451],\n",
       "       [0.81535964, 0.20674744, 0.71977994, 0.90790432, 0.04077622],\n",
       "       [0.16698611, 0.68721311, 0.08719852, 0.90405247, 0.39137554]])"
      ]
     },
     "execution_count": 41,
     "metadata": {},
     "output_type": "execute_result"
    }
   ],
   "source": [
    "linha1todasfaces = a3D[:,1] # outra forma: linha1todasfaces = a3D[:,1,:]\n",
    "linha1todasfaces"
   ]
  },
  {
   "cell_type": "code",
   "execution_count": 42,
   "metadata": {},
   "outputs": [
    {
     "data": {
      "text/plain": [
       "array([[0.24127851, 0.99972187, 0.48224493, 0.76102855],\n",
       "       [0.12702409, 0.90790432, 0.58395841, 0.38904965],\n",
       "       [0.70725533, 0.90405247, 0.90483183, 0.2983721 ]])"
      ]
     },
     "execution_count": 42,
     "metadata": {},
     "output_type": "execute_result"
    }
   ],
   "source": [
    "coluna3todasfaces = a3D[:,:,3]\n",
    "coluna3todasfaces"
   ]
  },
  {
   "cell_type": "markdown",
   "metadata": {},
   "source": [
    "### Indexação com booleanos"
   ]
  },
  {
   "cell_type": "code",
   "execution_count": 43,
   "metadata": {},
   "outputs": [
    {
     "data": {
      "text/plain": [
       "array([[151,  55,  55, 395, 145, 371, 474, 382],\n",
       "       [146, 402, 101, 205, 179, 312,   3, 404],\n",
       "       [ 48, 222, 165, 269, 260, 336, 116,  77],\n",
       "       [333, 197, 462, 404,  37, 187,  55, 134],\n",
       "       [489,  90, 447, 267, 203, 405, 117, 291],\n",
       "       [284,  80, 425,  85, 180, 140, 232, 486],\n",
       "       [199, 287, 270, 483, 286,  88, 102, 363],\n",
       "       [476, 354,  95, 165, 138, 362, 200, 491],\n",
       "       [434, 118, 211, 203, 459,  91, 331, 168],\n",
       "       [112, 364, 235, 377, 193, 206, 426, 209]])"
      ]
     },
     "execution_count": 43,
     "metadata": {},
     "output_type": "execute_result"
    }
   ],
   "source": [
    "a2D = np.random.randint(1, 501, (10, 8)) # Cria um ndarray de 4 linhas x 5 colunas com elementos entre 1 e 100\n",
    "a2D"
   ]
  },
  {
   "cell_type": "code",
   "execution_count": 44,
   "metadata": {},
   "outputs": [
    {
     "data": {
      "text/plain": [
       "array([[False, False, False,  True, False,  True,  True,  True],\n",
       "       [False,  True, False, False, False,  True, False,  True],\n",
       "       [False, False, False,  True,  True,  True, False, False],\n",
       "       [ True, False,  True,  True, False, False, False, False],\n",
       "       [ True, False,  True,  True, False,  True, False,  True],\n",
       "       [ True, False,  True, False, False, False, False,  True],\n",
       "       [False,  True,  True,  True,  True, False, False,  True],\n",
       "       [ True,  True, False, False, False,  True, False,  True],\n",
       "       [ True, False, False, False,  True, False,  True, False],\n",
       "       [False,  True, False,  True, False, False,  True, False]])"
      ]
     },
     "execution_count": 44,
     "metadata": {},
     "output_type": "execute_result"
    }
   ],
   "source": [
    "a2D >= 250"
   ]
  },
  {
   "cell_type": "code",
   "execution_count": 45,
   "metadata": {},
   "outputs": [
    {
     "data": {
      "text/plain": [
       "array([395, 371, 474, 382, 402, 312, 404, 269, 260, 336, 333, 462, 404,\n",
       "       489, 447, 267, 405, 291, 284, 425, 486, 287, 270, 483, 286, 363,\n",
       "       476, 354, 362, 491, 434, 459, 331, 364, 377, 426])"
      ]
     },
     "execution_count": 45,
     "metadata": {},
     "output_type": "execute_result"
    }
   ],
   "source": [
    "a2D[a2D >= 250]"
   ]
  },
  {
   "cell_type": "code",
   "execution_count": 46,
   "metadata": {},
   "outputs": [
    {
     "data": {
      "text/plain": [
       "247.4875"
      ]
     },
     "execution_count": 46,
     "metadata": {},
     "output_type": "execute_result"
    }
   ],
   "source": [
    "a2D.mean()"
   ]
  },
  {
   "cell_type": "code",
   "execution_count": 47,
   "metadata": {},
   "outputs": [
    {
     "data": {
      "text/plain": [
       "array([151,  55,  55, 145, 146, 101, 205, 179,   3,  48, 222, 165, 116,\n",
       "        77, 197,  37, 187,  55, 134,  90, 203, 117,  80,  85, 180, 140,\n",
       "       232, 199,  88, 102,  95, 165, 138, 200, 118, 211, 203,  91, 168,\n",
       "       112, 235, 193, 206, 209])"
      ]
     },
     "execution_count": 47,
     "metadata": {},
     "output_type": "execute_result"
    }
   ],
   "source": [
    "a2D[a2D <= a2D.mean()]"
   ]
  },
  {
   "cell_type": "code",
   "execution_count": null,
   "metadata": {
    "collapsed": true
   },
   "outputs": [],
   "source": []
  }
 ],
 "metadata": {
  "kernelspec": {
   "display_name": "Python 3",
   "language": "python",
   "name": "python3"
  },
  "language_info": {
   "codemirror_mode": {
    "name": "ipython",
    "version": 3
   },
   "file_extension": ".py",
   "mimetype": "text/x-python",
   "name": "python",
   "nbconvert_exporter": "python",
   "pygments_lexer": "ipython3",
   "version": "3.11.9"
  }
 },
 "nbformat": 4,
 "nbformat_minor": 2
}
