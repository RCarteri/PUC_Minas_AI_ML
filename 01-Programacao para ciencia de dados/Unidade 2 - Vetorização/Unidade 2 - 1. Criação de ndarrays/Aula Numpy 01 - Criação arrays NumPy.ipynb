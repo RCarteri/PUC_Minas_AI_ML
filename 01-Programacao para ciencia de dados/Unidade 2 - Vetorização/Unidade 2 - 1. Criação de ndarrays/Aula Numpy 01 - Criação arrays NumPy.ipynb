{
 "cells": [
  {
   "cell_type": "markdown",
   "metadata": {},
   "source": [
    "# NumPy - Numerical Python\n",
    "\n",
    "## Criando arrays NumPy"
   ]
  },
  {
   "cell_type": "code",
   "execution_count": 5,
   "metadata": {
    "collapsed": true
   },
   "outputs": [
    {
     "name": "stdout",
     "output_type": "stream",
     "text": [
      "Requirement already satisfied: numpy in c:\\users\\ricar\\appdata\\local\\packages\\pythonsoftwarefoundation.python.3.11_qbz5n2kfra8p0\\localcache\\local-packages\\python311\\site-packages (1.26.4)\n"
     ]
    }
   ],
   "source": [
    "!pip install numpy\n",
    "# Importando o NumPy\n",
    "import numpy as np"
   ]
  },
  {
   "cell_type": "markdown",
   "metadata": {},
   "source": [
    "### Criando arrays de 1 dimensão"
   ]
  },
  {
   "cell_type": "code",
   "execution_count": 6,
   "metadata": {
    "collapsed": true
   },
   "outputs": [
    {
     "data": {
      "text/plain": [
       "array([1, 2, 3])"
      ]
     },
     "execution_count": 6,
     "metadata": {},
     "output_type": "execute_result"
    }
   ],
   "source": [
    "a1D = np.array([1, 2, 3])\n",
    "a1D"
   ]
  },
  {
   "cell_type": "code",
   "execution_count": 7,
   "metadata": {
    "collapsed": true
   },
   "outputs": [
    {
     "data": {
      "text/plain": [
       "numpy.ndarray"
      ]
     },
     "execution_count": 7,
     "metadata": {},
     "output_type": "execute_result"
    }
   ],
   "source": [
    "# O objeto criado é um ndarray: n-dimensional array\n",
    "type(a1D)"
   ]
  },
  {
   "cell_type": "code",
   "execution_count": 8,
   "metadata": {
    "collapsed": true
   },
   "outputs": [
    {
     "data": {
      "text/plain": [
       "dtype('int32')"
      ]
     },
     "execution_count": 8,
     "metadata": {},
     "output_type": "execute_result"
    }
   ],
   "source": [
    "# Verificando o tipo dos elementos\n",
    "a1D.dtype"
   ]
  },
  {
   "cell_type": "code",
   "execution_count": 9,
   "metadata": {
    "collapsed": true
   },
   "outputs": [
    {
     "data": {
      "text/plain": [
       "array([1., 2., 3.])"
      ]
     },
     "execution_count": 9,
     "metadata": {},
     "output_type": "execute_result"
    }
   ],
   "source": [
    "b1D = np.array([1, 2, 3], dtype = float)\n",
    "b1D"
   ]
  },
  {
   "cell_type": "code",
   "execution_count": 10,
   "metadata": {
    "collapsed": true
   },
   "outputs": [
    {
     "data": {
      "text/plain": [
       "dtype('float64')"
      ]
     },
     "execution_count": 10,
     "metadata": {},
     "output_type": "execute_result"
    }
   ],
   "source": [
    "b1D.dtype"
   ]
  },
  {
   "cell_type": "code",
   "execution_count": 11,
   "metadata": {
    "collapsed": true
   },
   "outputs": [
    {
     "data": {
      "text/plain": [
       "array(['1', '2', '3'], dtype='<U1')"
      ]
     },
     "execution_count": 11,
     "metadata": {},
     "output_type": "execute_result"
    }
   ],
   "source": [
    "c1D = np.array([1, 2, 3], dtype = str)\n",
    "c1D"
   ]
  },
  {
   "cell_type": "code",
   "execution_count": 12,
   "metadata": {
    "collapsed": true
   },
   "outputs": [
    {
     "data": {
      "text/plain": [
       "array(['1', '3.14', 'NumPy', 'True'], dtype='<U32')"
      ]
     },
     "execution_count": 12,
     "metadata": {},
     "output_type": "execute_result"
    }
   ],
   "source": [
    "# str > float > int > bool\n",
    "d1D = np.array([1, 3.14, \"NumPy\", True])\n",
    "d1D"
   ]
  },
  {
   "cell_type": "code",
   "execution_count": 13,
   "metadata": {
    "collapsed": true
   },
   "outputs": [
    {
     "data": {
      "text/plain": [
       "array([1.  , 3.14, 0.  , 1.  ])"
      ]
     },
     "execution_count": 13,
     "metadata": {},
     "output_type": "execute_result"
    }
   ],
   "source": [
    "e1D = np.array([1, 3.14, False, True])\n",
    "e1D"
   ]
  },
  {
   "cell_type": "code",
   "execution_count": 14,
   "metadata": {
    "collapsed": true
   },
   "outputs": [
    {
     "data": {
      "text/plain": [
       "dtype('float64')"
      ]
     },
     "execution_count": 14,
     "metadata": {},
     "output_type": "execute_result"
    }
   ],
   "source": [
    "e1D.dtype"
   ]
  },
  {
   "cell_type": "code",
   "execution_count": 15,
   "metadata": {
    "collapsed": true
   },
   "outputs": [
    {
     "data": {
      "text/plain": [
       "array([1, 0, 1])"
      ]
     },
     "execution_count": 15,
     "metadata": {},
     "output_type": "execute_result"
    }
   ],
   "source": [
    "f1D = np.array([1, False, True])\n",
    "f1D"
   ]
  },
  {
   "cell_type": "code",
   "execution_count": 16,
   "metadata": {
    "collapsed": true
   },
   "outputs": [
    {
     "data": {
      "text/plain": [
       "dtype('int32')"
      ]
     },
     "execution_count": 16,
     "metadata": {},
     "output_type": "execute_result"
    }
   ],
   "source": [
    "f1D.dtype"
   ]
  },
  {
   "cell_type": "code",
   "execution_count": 17,
   "metadata": {
    "collapsed": true
   },
   "outputs": [
    {
     "data": {
      "text/plain": [
       "array([False,  True])"
      ]
     },
     "execution_count": 17,
     "metadata": {},
     "output_type": "execute_result"
    }
   ],
   "source": [
    "g1D = np.array([False, True])\n",
    "g1D"
   ]
  },
  {
   "cell_type": "code",
   "execution_count": 18,
   "metadata": {
    "collapsed": true
   },
   "outputs": [
    {
     "data": {
      "text/plain": [
       "dtype('bool')"
      ]
     },
     "execution_count": 18,
     "metadata": {},
     "output_type": "execute_result"
    }
   ],
   "source": [
    "g1D.dtype"
   ]
  },
  {
   "cell_type": "markdown",
   "metadata": {},
   "source": [
    "### Criando arrays de 2 dimensões"
   ]
  },
  {
   "cell_type": "code",
   "execution_count": 19,
   "metadata": {
    "collapsed": true
   },
   "outputs": [
    {
     "data": {
      "text/plain": [
       "array([[1, 2, 3],\n",
       "       [4, 5, 6],\n",
       "       [7, 8, 9]])"
      ]
     },
     "execution_count": 19,
     "metadata": {},
     "output_type": "execute_result"
    }
   ],
   "source": [
    "a2D = np.array([ [1, 2, 3], [4, 5, 6], [7, 8, 9]])\n",
    "a2D"
   ]
  },
  {
   "cell_type": "code",
   "execution_count": 20,
   "metadata": {
    "collapsed": true
   },
   "outputs": [
    {
     "data": {
      "text/plain": [
       "dtype('int32')"
      ]
     },
     "execution_count": 20,
     "metadata": {},
     "output_type": "execute_result"
    }
   ],
   "source": [
    "a2D.dtype"
   ]
  },
  {
   "cell_type": "markdown",
   "metadata": {},
   "source": [
    "### Criando arrays de 3 dimensões"
   ]
  },
  {
   "cell_type": "code",
   "execution_count": 21,
   "metadata": {
    "collapsed": true
   },
   "outputs": [
    {
     "data": {
      "text/plain": [
       "array([[[ 1,  2,  3],\n",
       "        [ 4,  5,  6],\n",
       "        [ 7,  8,  9]],\n",
       "\n",
       "       [[11, 12, 13],\n",
       "        [14, 15, 16],\n",
       "        [17, 18, 19]],\n",
       "\n",
       "       [[21, 22, 23],\n",
       "        [24, 25, 26],\n",
       "        [27, 28, 29]]])"
      ]
     },
     "execution_count": 21,
     "metadata": {},
     "output_type": "execute_result"
    }
   ],
   "source": [
    "a3D = np.array( [ [ [1,2,3], [4,5,6], [7,8,9] ], [ [11,12,13], [14,15,16], [17,18,19] ], [ [21,22,23], [24,25,26], [27,28,29] ]])\n",
    "a3D"
   ]
  },
  {
   "cell_type": "markdown",
   "metadata": {},
   "source": [
    "## Outras formas de criar arrays\n",
    "\n",
    "### Arrays preenchidos com zeros - zeros()"
   ]
  },
  {
   "cell_type": "code",
   "execution_count": 22,
   "metadata": {
    "collapsed": true
   },
   "outputs": [
    {
     "data": {
      "text/plain": [
       "array([0., 0., 0., 0., 0.])"
      ]
     },
     "execution_count": 22,
     "metadata": {},
     "output_type": "execute_result"
    }
   ],
   "source": [
    "# 1 dimensão\n",
    "azeros = np.zeros(5)\n",
    "azeros"
   ]
  },
  {
   "cell_type": "code",
   "execution_count": 23,
   "metadata": {
    "collapsed": true
   },
   "outputs": [
    {
     "data": {
      "text/plain": [
       "array([[0., 0., 0., 0.],\n",
       "       [0., 0., 0., 0.],\n",
       "       [0., 0., 0., 0.]])"
      ]
     },
     "execution_count": 23,
     "metadata": {},
     "output_type": "execute_result"
    }
   ],
   "source": [
    "# 2 dimensões\n",
    "bzeros = np.zeros((3, 4)) # 3 linhas e 4 colunas\n",
    "bzeros"
   ]
  },
  {
   "cell_type": "code",
   "execution_count": 24,
   "metadata": {
    "collapsed": true
   },
   "outputs": [
    {
     "data": {
      "text/plain": [
       "array([[[0., 0.],\n",
       "        [0., 0.],\n",
       "        [0., 0.],\n",
       "        [0., 0.]],\n",
       "\n",
       "       [[0., 0.],\n",
       "        [0., 0.],\n",
       "        [0., 0.],\n",
       "        [0., 0.]],\n",
       "\n",
       "       [[0., 0.],\n",
       "        [0., 0.],\n",
       "        [0., 0.],\n",
       "        [0., 0.]]])"
      ]
     },
     "execution_count": 24,
     "metadata": {},
     "output_type": "execute_result"
    }
   ],
   "source": [
    "# 3 dimensões\n",
    "czeros = np.zeros((3, 4, 2)) # 3 páginas, 4 linhas e 2 colunas\n",
    "czeros"
   ]
  },
  {
   "cell_type": "code",
   "execution_count": 25,
   "metadata": {
    "collapsed": true
   },
   "outputs": [
    {
     "data": {
      "text/plain": [
       "array([[0, 0, 0, 0],\n",
       "       [0, 0, 0, 0],\n",
       "       [0, 0, 0, 0]])"
      ]
     },
     "execution_count": 25,
     "metadata": {},
     "output_type": "execute_result"
    }
   ],
   "source": [
    "# 2 dimensões\n",
    "dzeros = np.zeros((3, 4), dtype = int) # 3 linhas e 4 colunas\n",
    "dzeros"
   ]
  },
  {
   "cell_type": "markdown",
   "metadata": {},
   "source": [
    "### Arrays preenchidos com 1's - ones()"
   ]
  },
  {
   "cell_type": "code",
   "execution_count": 26,
   "metadata": {
    "collapsed": true
   },
   "outputs": [
    {
     "data": {
      "text/plain": [
       "array([1., 1., 1., 1., 1.])"
      ]
     },
     "execution_count": 26,
     "metadata": {},
     "output_type": "execute_result"
    }
   ],
   "source": [
    "# 1 dimensão\n",
    "a_um_1D = np.ones(5)\n",
    "a_um_1D"
   ]
  },
  {
   "cell_type": "code",
   "execution_count": 27,
   "metadata": {
    "collapsed": true
   },
   "outputs": [
    {
     "data": {
      "text/plain": [
       "array(['1', '1', '1', '1', '1', '1', '1', '1', '1', '1'], dtype='<U1')"
      ]
     },
     "execution_count": 27,
     "metadata": {},
     "output_type": "execute_result"
    }
   ],
   "source": [
    "b_um_1D = np.ones(10, dtype = str)\n",
    "b_um_1D"
   ]
  },
  {
   "cell_type": "code",
   "execution_count": 28,
   "metadata": {
    "collapsed": true
   },
   "outputs": [
    {
     "data": {
      "text/plain": [
       "array([1, 1, 1, 1, 1])"
      ]
     },
     "execution_count": 28,
     "metadata": {},
     "output_type": "execute_result"
    }
   ],
   "source": [
    "c_um_1D = np.ones(5, dtype = int)\n",
    "c_um_1D"
   ]
  },
  {
   "cell_type": "code",
   "execution_count": 29,
   "metadata": {
    "collapsed": true
   },
   "outputs": [
    {
     "data": {
      "text/plain": [
       "array([[1., 1., 1.],\n",
       "       [1., 1., 1.],\n",
       "       [1., 1., 1.],\n",
       "       [1., 1., 1.]])"
      ]
     },
     "execution_count": 29,
     "metadata": {},
     "output_type": "execute_result"
    }
   ],
   "source": [
    "# 2 dimensões\n",
    "d_um_2D = np.ones((4, 3)) # 4 linhas e 3 colunas\n",
    "d_um_2D"
   ]
  },
  {
   "cell_type": "code",
   "execution_count": 30,
   "metadata": {
    "collapsed": true
   },
   "outputs": [
    {
     "data": {
      "text/plain": [
       "array([[[1., 1., 1.],\n",
       "        [1., 1., 1.]],\n",
       "\n",
       "       [[1., 1., 1.],\n",
       "        [1., 1., 1.]],\n",
       "\n",
       "       [[1., 1., 1.],\n",
       "        [1., 1., 1.]],\n",
       "\n",
       "       [[1., 1., 1.],\n",
       "        [1., 1., 1.]],\n",
       "\n",
       "       [[1., 1., 1.],\n",
       "        [1., 1., 1.]]])"
      ]
     },
     "execution_count": 30,
     "metadata": {},
     "output_type": "execute_result"
    }
   ],
   "source": [
    "# 3 dimensões\n",
    "e_um_3D = np.ones((5, 2, 3)) \n",
    "e_um_3D"
   ]
  },
  {
   "cell_type": "code",
   "execution_count": 31,
   "metadata": {
    "collapsed": true
   },
   "outputs": [
    {
     "data": {
      "text/plain": [
       "array([[[[1., 1., 1.],\n",
       "         [1., 1., 1.]],\n",
       "\n",
       "        [[1., 1., 1.],\n",
       "         [1., 1., 1.]],\n",
       "\n",
       "        [[1., 1., 1.],\n",
       "         [1., 1., 1.]],\n",
       "\n",
       "        [[1., 1., 1.],\n",
       "         [1., 1., 1.]]],\n",
       "\n",
       "\n",
       "       [[[1., 1., 1.],\n",
       "         [1., 1., 1.]],\n",
       "\n",
       "        [[1., 1., 1.],\n",
       "         [1., 1., 1.]],\n",
       "\n",
       "        [[1., 1., 1.],\n",
       "         [1., 1., 1.]],\n",
       "\n",
       "        [[1., 1., 1.],\n",
       "         [1., 1., 1.]]],\n",
       "\n",
       "\n",
       "       [[[1., 1., 1.],\n",
       "         [1., 1., 1.]],\n",
       "\n",
       "        [[1., 1., 1.],\n",
       "         [1., 1., 1.]],\n",
       "\n",
       "        [[1., 1., 1.],\n",
       "         [1., 1., 1.]],\n",
       "\n",
       "        [[1., 1., 1.],\n",
       "         [1., 1., 1.]]]])"
      ]
     },
     "execution_count": 31,
     "metadata": {},
     "output_type": "execute_result"
    }
   ],
   "source": [
    "# 4 dimensões\n",
    "f_um_4D = np.ones((3, 4, 2, 3)) \n",
    "f_um_4D"
   ]
  },
  {
   "cell_type": "markdown",
   "metadata": {},
   "source": [
    "### Arrays preenchidos com faixas de valores - arange()"
   ]
  },
  {
   "cell_type": "code",
   "execution_count": 32,
   "metadata": {
    "collapsed": true
   },
   "outputs": [
    {
     "data": {
      "text/plain": [
       "array([0, 1, 2, 3, 4, 5, 6, 7, 8, 9])"
      ]
     },
     "execution_count": 32,
     "metadata": {},
     "output_type": "execute_result"
    }
   ],
   "source": [
    "# Cria um ndarray preenchido com  os elementos de 0 a n-1\n",
    "# No exemplo abaixo vai criar um ndarray com os elementos 0 a 9\n",
    "a1D = np.arange(10)\n",
    "a1D"
   ]
  },
  {
   "cell_type": "code",
   "execution_count": 33,
   "metadata": {
    "collapsed": true
   },
   "outputs": [
    {
     "data": {
      "text/plain": [
       "array([ 5,  6,  7,  8,  9, 10, 11, 12, 13, 14])"
      ]
     },
     "execution_count": 33,
     "metadata": {},
     "output_type": "execute_result"
    }
   ],
   "source": [
    "# Cria um ndarray preenchido com os elementos variando entre o valor inicial e o valor final - 1\n",
    "# Nesse exemplo vai criar um array com os elementos de 5 a 14\n",
    "b1D = np.arange(5, 15)\n",
    "b1D"
   ]
  },
  {
   "cell_type": "code",
   "execution_count": 34,
   "metadata": {
    "collapsed": true
   },
   "outputs": [
    {
     "data": {
      "text/plain": [
       "array([ 5, 15, 25, 35, 45, 55, 65, 75, 85, 95])"
      ]
     },
     "execution_count": 34,
     "metadata": {},
     "output_type": "execute_result"
    }
   ],
   "source": [
    "# Cria um ndarray preenchido com os elementos variando entre o valor inicial e o valor final - 1, com um determinado step\n",
    "# No exemplo vai criar um array com os elementos de 5 a 100, com passo 10. Ou seja: 5, 15, 25...95\n",
    "c1D = np.arange(5,100, 10)\n",
    "c1D"
   ]
  },
  {
   "cell_type": "markdown",
   "metadata": {},
   "source": [
    "### Criando arrays preenchidos com valores igualmente espaçados - linspace()"
   ]
  },
  {
   "cell_type": "code",
   "execution_count": 35,
   "metadata": {
    "collapsed": true
   },
   "outputs": [
    {
     "data": {
      "text/plain": [
       "array([ 0., 10.])"
      ]
     },
     "execution_count": 35,
     "metadata": {},
     "output_type": "execute_result"
    }
   ],
   "source": [
    "# Cria um array com n elementos entre o valor inicial e valor final, igualmente espaçados\n",
    "d1D = np.linspace(0,10, 2) # Cria um array com 2 valores entre 0 e 10\n",
    "d1D"
   ]
  },
  {
   "cell_type": "code",
   "execution_count": 36,
   "metadata": {
    "collapsed": true
   },
   "outputs": [
    {
     "data": {
      "text/plain": [
       "array([ 0.        ,  3.33333333,  6.66666667, 10.        ])"
      ]
     },
     "execution_count": 36,
     "metadata": {},
     "output_type": "execute_result"
    }
   ],
   "source": [
    "e1D = np.linspace(0,10, 4) # Cria um array com 2 valores entre 0 e 10\n",
    "e1D"
   ]
  },
  {
   "cell_type": "code",
   "execution_count": 37,
   "metadata": {
    "collapsed": true
   },
   "outputs": [
    {
     "data": {
      "text/plain": [
       "array([   1.        ,   21.3877551 ,   41.7755102 ,   62.16326531,\n",
       "         82.55102041,  102.93877551,  123.32653061,  143.71428571,\n",
       "        164.10204082,  184.48979592,  204.87755102,  225.26530612,\n",
       "        245.65306122,  266.04081633,  286.42857143,  306.81632653,\n",
       "        327.20408163,  347.59183673,  367.97959184,  388.36734694,\n",
       "        408.75510204,  429.14285714,  449.53061224,  469.91836735,\n",
       "        490.30612245,  510.69387755,  531.08163265,  551.46938776,\n",
       "        571.85714286,  592.24489796,  612.63265306,  633.02040816,\n",
       "        653.40816327,  673.79591837,  694.18367347,  714.57142857,\n",
       "        734.95918367,  755.34693878,  775.73469388,  796.12244898,\n",
       "        816.51020408,  836.89795918,  857.28571429,  877.67346939,\n",
       "        898.06122449,  918.44897959,  938.83673469,  959.2244898 ,\n",
       "        979.6122449 , 1000.        ])"
      ]
     },
     "execution_count": 37,
     "metadata": {},
     "output_type": "execute_result"
    }
   ],
   "source": [
    "f1D = np.linspace(1,1000) # Se não for passada a quantidade de elementos, o padrão é gerar 50 elementos\n",
    "f1D"
   ]
  },
  {
   "cell_type": "code",
   "execution_count": 38,
   "metadata": {
    "collapsed": true
   },
   "outputs": [
    {
     "data": {
      "text/plain": [
       "array([   1,   21,   41,   62,   82,  102,  123,  143,  164,  184,  204,\n",
       "        225,  245,  266,  286,  306,  327,  347,  367,  388,  408,  429,\n",
       "        449,  469,  490,  510,  531,  551,  571,  592,  612,  633,  653,\n",
       "        673,  694,  714,  734,  755,  775,  796,  816,  836,  857,  877,\n",
       "        898,  918,  938,  959,  979, 1000])"
      ]
     },
     "execution_count": 38,
     "metadata": {},
     "output_type": "execute_result"
    }
   ],
   "source": [
    "g1D = np.linspace(1,1000, dtype = int) # gerando int, a função simplesmente corta as casas decimais\n",
    "g1D"
   ]
  },
  {
   "cell_type": "code",
   "execution_count": 39,
   "metadata": {
    "collapsed": true
   },
   "outputs": [
    {
     "data": {
      "text/plain": [
       "array([ 0.        ,  5.55555556, 11.11111111, 16.66666667, 22.22222222,\n",
       "       27.77777778, 33.33333333, 38.88888889, 44.44444444, 50.        ])"
      ]
     },
     "execution_count": 39,
     "metadata": {},
     "output_type": "execute_result"
    }
   ],
   "source": [
    "h1D = np.linspace(0,50, 10, endpoint = True) # O valor final é incluído\n",
    "h1D\n"
   ]
  },
  {
   "cell_type": "code",
   "execution_count": 40,
   "metadata": {
    "collapsed": true
   },
   "outputs": [
    {
     "data": {
      "text/plain": [
       "array([ 0.,  5., 10., 15., 20., 25., 30., 35., 40., 45.])"
      ]
     },
     "execution_count": 40,
     "metadata": {},
     "output_type": "execute_result"
    }
   ],
   "source": [
    "i1D = np.linspace(0,50, 10, endpoint = False) # O valor final não é incluído\n",
    "i1D"
   ]
  },
  {
   "cell_type": "markdown",
   "metadata": {},
   "source": [
    "### Criando arrays preenchidos com um único valor passado por parâmetro - full()"
   ]
  },
  {
   "cell_type": "code",
   "execution_count": 41,
   "metadata": {
    "collapsed": true
   },
   "outputs": [
    {
     "data": {
      "text/plain": [
       "array([5, 5, 5, 5, 5, 5, 5, 5, 5, 5])"
      ]
     },
     "execution_count": 41,
     "metadata": {},
     "output_type": "execute_result"
    }
   ],
   "source": [
    "a1D = np.full(10, 5) # ndarray contendo 10 números 5\n",
    "a1D"
   ]
  },
  {
   "cell_type": "code",
   "execution_count": 42,
   "metadata": {
    "collapsed": true
   },
   "outputs": [
    {
     "data": {
      "text/plain": [
       "array([[3, 3, 3, 3, 3],\n",
       "       [3, 3, 3, 3, 3],\n",
       "       [3, 3, 3, 3, 3]])"
      ]
     },
     "execution_count": 42,
     "metadata": {},
     "output_type": "execute_result"
    }
   ],
   "source": [
    "a2D = np.full((3, 5), 3)  # ndarray de 3 linhas e 5 colunas contendo o número 3\n",
    "a2D"
   ]
  },
  {
   "cell_type": "code",
   "execution_count": 43,
   "metadata": {
    "collapsed": true
   },
   "outputs": [
    {
     "data": {
      "text/plain": [
       "array([[[-1, -1, -1, -1, -1, -1, -1, -1],\n",
       "        [-1, -1, -1, -1, -1, -1, -1, -1],\n",
       "        [-1, -1, -1, -1, -1, -1, -1, -1],\n",
       "        [-1, -1, -1, -1, -1, -1, -1, -1],\n",
       "        [-1, -1, -1, -1, -1, -1, -1, -1]],\n",
       "\n",
       "       [[-1, -1, -1, -1, -1, -1, -1, -1],\n",
       "        [-1, -1, -1, -1, -1, -1, -1, -1],\n",
       "        [-1, -1, -1, -1, -1, -1, -1, -1],\n",
       "        [-1, -1, -1, -1, -1, -1, -1, -1],\n",
       "        [-1, -1, -1, -1, -1, -1, -1, -1]],\n",
       "\n",
       "       [[-1, -1, -1, -1, -1, -1, -1, -1],\n",
       "        [-1, -1, -1, -1, -1, -1, -1, -1],\n",
       "        [-1, -1, -1, -1, -1, -1, -1, -1],\n",
       "        [-1, -1, -1, -1, -1, -1, -1, -1],\n",
       "        [-1, -1, -1, -1, -1, -1, -1, -1]]])"
      ]
     },
     "execution_count": 43,
     "metadata": {},
     "output_type": "execute_result"
    }
   ],
   "source": [
    "a3D = np.full((3, 5, 8), -1)  # ndarray de 3 páginas, 5 linhas e 8 colunas contendo o número -1\n",
    "a3D"
   ]
  },
  {
   "cell_type": "markdown",
   "metadata": {},
   "source": [
    "### Criando matriz identidade - eye()"
   ]
  },
  {
   "cell_type": "code",
   "execution_count": 44,
   "metadata": {
    "collapsed": true
   },
   "outputs": [
    {
     "data": {
      "text/plain": [
       "array([[1., 0., 0., 0., 0.],\n",
       "       [0., 1., 0., 0., 0.],\n",
       "       [0., 0., 1., 0., 0.],\n",
       "       [0., 0., 0., 1., 0.],\n",
       "       [0., 0., 0., 0., 1.]])"
      ]
     },
     "execution_count": 44,
     "metadata": {},
     "output_type": "execute_result"
    }
   ],
   "source": [
    "ident = np.eye(5) # Cria uma matriz 5x5 preenchida com 1s na diagonal principal e 0 nas posições restantes\n",
    "ident"
   ]
  },
  {
   "cell_type": "markdown",
   "metadata": {},
   "source": [
    "### Criando matriz com elementos aleatórios"
   ]
  },
  {
   "cell_type": "code",
   "execution_count": 45,
   "metadata": {
    "collapsed": true
   },
   "outputs": [
    {
     "data": {
      "text/plain": [
       "array([38, 67, 55, 91, 64, 76, 42, 74, 61, 78])"
      ]
     },
     "execution_count": 45,
     "metadata": {},
     "output_type": "execute_result"
    }
   ],
   "source": [
    "a1D = np.random.randint(0, 100, 10) # Cria um ndarray com 10 elementos entre 0 e 99\n",
    "a1D"
   ]
  },
  {
   "cell_type": "code",
   "execution_count": 46,
   "metadata": {
    "collapsed": true
   },
   "outputs": [
    {
     "data": {
      "text/plain": [
       "array([[270, 179, 485, 220, 276],\n",
       "       [494, 121, 456, 223, 103],\n",
       "       [277, 412,  51, 368,  40],\n",
       "       [203,  64, 473, 368, 259]])"
      ]
     },
     "execution_count": 46,
     "metadata": {},
     "output_type": "execute_result"
    }
   ],
   "source": [
    "a2D = np.random.randint(1, 500, (4,5))\n",
    "a2D"
   ]
  },
  {
   "cell_type": "code",
   "execution_count": 47,
   "metadata": {
    "collapsed": true
   },
   "outputs": [
    {
     "data": {
      "text/plain": [
       "array([[[49, 18, 32, 44, 21, 21]],\n",
       "\n",
       "       [[ 5, 60, 32, 32, 37,  3]],\n",
       "\n",
       "       [[39,  8, 31, 56, 15, 37]],\n",
       "\n",
       "       [[32, 40,  6, 39, 42,  5]],\n",
       "\n",
       "       [[11, 11, 16, 26, 51, 53]],\n",
       "\n",
       "       [[19, 49, 59, 16, 37, 39]],\n",
       "\n",
       "       [[14, 37, 34,  6,  8, 28]],\n",
       "\n",
       "       [[20, 37, 24, 49,  5, 40]],\n",
       "\n",
       "       [[ 7, 55, 42, 33, 21, 28]],\n",
       "\n",
       "       [[39, 51, 13,  1, 13, 42]]])"
      ]
     },
     "execution_count": 47,
     "metadata": {},
     "output_type": "execute_result"
    }
   ],
   "source": [
    "# Gerando 10 combinações para a mega-sena\n",
    "# Valores vão de 1 a 60, 10 páginas, 1 linha, 6 colunas\n",
    "a3D = np.random.randint(1,61,(10,1,6)) \n",
    "a3D"
   ]
  },
  {
   "cell_type": "code",
   "execution_count": 48,
   "metadata": {
    "collapsed": true
   },
   "outputs": [
    {
     "data": {
      "text/plain": [
       "array([0.75153705, 0.28925013, 0.74930915, 0.10032536, 0.87285745,\n",
       "       0.97565193, 0.41096671, 0.88836435, 0.14893949, 0.68110504])"
      ]
     },
     "execution_count": 48,
     "metadata": {},
     "output_type": "execute_result"
    }
   ],
   "source": [
    "b1D = np.random.random(10) # Cria um ndarray contendo 10 elementos aleatórios entre 0 e 1\n",
    "b1D"
   ]
  },
  {
   "cell_type": "code",
   "execution_count": 49,
   "metadata": {
    "collapsed": true
   },
   "outputs": [
    {
     "data": {
      "text/plain": [
       "array([[0.12802031, 0.24940993, 0.61814988, 0.02712779, 0.52638577],\n",
       "       [0.2659174 , 0.90135283, 0.16638875, 0.96948198, 0.29160994],\n",
       "       [0.8899819 , 0.96691607, 0.82202156, 0.57759886, 0.50947007],\n",
       "       [0.9064091 , 0.9480967 , 0.27530187, 0.06678732, 0.68212096]])"
      ]
     },
     "execution_count": 49,
     "metadata": {},
     "output_type": "execute_result"
    }
   ],
   "source": [
    "c2D = np.random.random((4,5)) # Cria um ndarray de 4 linhas e 5 colunas contendo elementos aleatórios entre 0 e 1\n",
    "c2D"
   ]
  },
  {
   "cell_type": "code",
   "execution_count": null,
   "metadata": {
    "collapsed": true
   },
   "outputs": [],
   "source": []
  }
 ],
 "metadata": {
  "kernelspec": {
   "display_name": "Python 3",
   "language": "python",
   "name": "python3"
  },
  "language_info": {
   "codemirror_mode": {
    "name": "ipython",
    "version": 3
   },
   "file_extension": ".py",
   "mimetype": "text/x-python",
   "name": "python",
   "nbconvert_exporter": "python",
   "pygments_lexer": "ipython3",
   "version": "3.11.9"
  }
 },
 "nbformat": 4,
 "nbformat_minor": 2
}
