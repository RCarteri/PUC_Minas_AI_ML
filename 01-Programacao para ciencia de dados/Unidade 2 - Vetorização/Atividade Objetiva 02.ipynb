{
 "cells": [
  {
   "cell_type": "markdown",
   "metadata": {},
   "source": [
    "### Pergunta 1\n",
    "\n",
    "Qual é a saída correta para o código Python a seguir?\n",
    "\n",
    "\n",
    "```\n",
    "    import numpy as np\n",
    "    dataset = np.array(['paul', 'jacob', 'vince', 'paul', 'miky', 'larence', 'warren'])\n",
    "    print(dataset == 'paul')\n",
    "```\n",
    "\n",
    "\n",
    "\n",
    "**A) [True False False True False False False]**\n",
    "\n",
    "B) True\n",
    "\n",
    "C) [False False False True False False False]\n",
    "\n",
    "D) [True False False False False False False]"
   ]
  },
  {
   "cell_type": "code",
   "execution_count": 14,
   "metadata": {},
   "outputs": [
    {
     "name": "stdout",
     "output_type": "stream",
     "text": [
      "[ True False False  True False False False]\n"
     ]
    }
   ],
   "source": [
    "import numpy as np\n",
    "dataset = np.array(['paul', 'jacob', 'vince', 'paul', 'miky', 'larence', 'warren'])\n",
    "print(dataset == 'paul')"
   ]
  },
  {
   "cell_type": "markdown",
   "metadata": {},
   "source": [
    "### Pergunta 2\n",
    "\n",
    "Quais das opções substituem todos os números pares do array abaixo por -1?\n",
    "\n",
    "`arr = np.array([0, 1, 2, 3, 4, 5, 6, 7, 8, 9])`\n",
    "\n",
    "\n",
    "**A) arr[::2] = -1**\n",
    "\n",
    "B) arr[1::2] = -1\n",
    "\n",
    "**C) arr[arr % 2 == 0] = -1**\n",
    "\n",
    "**D) arr[-2::-2] = -1**"
   ]
  },
  {
   "cell_type": "code",
   "execution_count": 15,
   "metadata": {},
   "outputs": [
    {
     "name": "stdout",
     "output_type": "stream",
     "text": [
      "[-1  1 -1  3 -1  5 -1  7 -1  9]\n",
      "[ 0 -1  2 -1  4 -1  6 -1  8 -1]\n",
      "[-1  1 -1  3 -1  5 -1  7 -1  9]\n",
      "[-1  1 -1  3 -1  5 -1  7 -1  9]\n"
     ]
    }
   ],
   "source": [
    "def create_array():\n",
    "    return np.array([0, 1, 2, 3, 4, 5, 6, 7, 8, 9])\n",
    "\n",
    "arr[::2] = -1 \n",
    "print(arr)\n",
    "\n",
    "arr = create_array()\n",
    "arr[1::2] = -1\n",
    "print(arr)\n",
    "\n",
    "arr = create_array()\n",
    "arr[arr % 2 == 0] = -1 \n",
    "print(arr)\n",
    "\n",
    "arr = create_array()\n",
    "arr[-2::-2] = -1 \n",
    "print(arr)"
   ]
  },
  {
   "cell_type": "markdown",
   "metadata": {},
   "source": [
    "### Pergunta 3\n",
    "\n",
    "Qual a saída correta para código a seguir?\n",
    "\n",
    "```\n",
    "import numpy as np\n",
    "series = [[23,45,12,679], [14,48,69,38]]\n",
    "new_series = np.array(series)\n",
    "print(new_series.ndim)\n",
    "print(new_series.shape)\n",
    "```\n",
    "\n",
    "**A) 2 (2, 4)**\n",
    "\n",
    "B) 2 (4, 2)\n",
    "\n",
    "C) 4 (2)\n",
    "\n",
    "D) 2 (4)"
   ]
  },
  {
   "cell_type": "code",
   "execution_count": 16,
   "metadata": {},
   "outputs": [
    {
     "name": "stdout",
     "output_type": "stream",
     "text": [
      "2\n",
      "(2, 4)\n"
     ]
    }
   ],
   "source": [
    "series = [[23,45,12,679], [14,48,69,38]]\n",
    "new_series = np.array(series)\n",
    "print(new_series.ndim)\n",
    "print(new_series.shape)"
   ]
  },
  {
   "cell_type": "markdown",
   "metadata": {},
   "source": [
    "## Pergunta 4\n",
    "\n",
    "Vamos supor que eu queira criar um ndarray de uma dimensão, com 10 posições armazenando o valor 4. Quais das seguintes formas são corretas?\n",
    "Grupo de escolhas da pergunta\n",
    "\n",
    "**A) a = np.zeros(10) + 4**\n",
    "\n",
    "B) a = np.zeros(10) * 4\n",
    "\n",
    "**C) a = np.ones(10) * 4**\n",
    "\n",
    "D) a= np.ones(10) + 4\n",
    "\n",
    "**E) a = np.full(10, 4)**"
   ]
  },
  {
   "cell_type": "code",
   "execution_count": 17,
   "metadata": {},
   "outputs": [
    {
     "name": "stdout",
     "output_type": "stream",
     "text": [
      "[4. 4. 4. 4. 4. 4. 4. 4. 4. 4.]\n",
      "[0. 0. 0. 0. 0. 0. 0. 0. 0. 0.]\n",
      "[4. 4. 4. 4. 4. 4. 4. 4. 4. 4.]\n",
      "[5. 5. 5. 5. 5. 5. 5. 5. 5. 5.]\n",
      "[4 4 4 4 4 4 4 4 4 4]\n"
     ]
    }
   ],
   "source": [
    "a = np.zeros(10) + 4\n",
    "print(a)\n",
    "\n",
    "a = np.zeros(10) * 4\n",
    "print(a)\n",
    "\n",
    "a = np.ones(10) * 4\n",
    "print(a)\n",
    "\n",
    "a= np.ones(10) + 4\n",
    "print(a)\n",
    "\n",
    "a = np.full(10, 4)\n",
    "print(a)"
   ]
  },
  {
   "cell_type": "markdown",
   "metadata": {},
   "source": [
    "### Pergunta 5\n",
    "Qual é a saída para o código a seguir?\n",
    "\n",
    "```\n",
    "import numpy as np\n",
    "\n",
    "percentiles = [98, 76.37, 55.55, 69, 88]\n",
    "first_subject = np.array(percentiles)\n",
    "print(first_subject.dtype.name)\n",
    " ```\n",
    "\n",
    "**A) 'float64'**\n",
    "\n",
    "B) 'int32'\n",
    "\n",
    "C) 'str'\n",
    "\n",
    "D) 'bool'\n",
    "\n",
    "E) 'float'"
   ]
  },
  {
   "cell_type": "code",
   "execution_count": 18,
   "metadata": {},
   "outputs": [
    {
     "name": "stdout",
     "output_type": "stream",
     "text": [
      "float64\n"
     ]
    }
   ],
   "source": [
    "percentiles = [98, 76.37, 55.55, 69, 88]\n",
    "first_subject = np.array(percentiles)\n",
    "print(first_subject.dtype.name)"
   ]
  },
  {
   "cell_type": "markdown",
   "metadata": {},
   "source": [
    "### Pergunta 6\n",
    "Após criar uma matriz identidade de 5x5, um programador deseja preencher os elementos acima e abaixo da diagonal principal com o número -1. Como ele pode fazer isso?\n",
    "\n",
    "`arr = np.eye(5)`\n",
    "\n",
    "**A) arr[arr == 0] = -1**\n",
    "\n",
    "**B) arr[arr != 1] = -1**\n",
    "\n",
    "C) arr = np.full((5x5),-1)\n",
    "\n",
    "D) arr = arr - (np.eye(5) + 1)"
   ]
  },
  {
   "cell_type": "code",
   "execution_count": 23,
   "metadata": {},
   "outputs": [
    {
     "name": "stdout",
     "output_type": "stream",
     "text": [
      "[[ 1. -1. -1. -1. -1.]\n",
      " [-1.  1. -1. -1. -1.]\n",
      " [-1. -1.  1. -1. -1.]\n",
      " [-1. -1. -1.  1. -1.]\n",
      " [-1. -1. -1. -1.  1.]]\n",
      "[[ 1. -1. -1. -1. -1.]\n",
      " [-1.  1. -1. -1. -1.]\n",
      " [-1. -1.  1. -1. -1.]\n",
      " [-1. -1. -1.  1. -1.]\n",
      " [-1. -1. -1. -1.  1.]]\n",
      "[[-1. -2. -2. -2. -2.]\n",
      " [-2. -1. -2. -2. -2.]\n",
      " [-2. -2. -1. -2. -2.]\n",
      " [-2. -2. -2. -1. -2.]\n",
      " [-2. -2. -2. -2. -1.]]\n"
     ]
    }
   ],
   "source": [
    "arr = np.eye(5)\n",
    "arr[arr == 0] = -1\n",
    "print(arr)\n",
    "\n",
    "arr[arr != 1] = -1\n",
    "print(arr)\n",
    "\n",
    "# arr = np.full((5x5),-1) retorna erro\n",
    "\n",
    "arr = arr - (np.eye(5) + 1)\n",
    "print(arr)\n"
   ]
  }
 ],
 "metadata": {
  "kernelspec": {
   "display_name": "Python 3",
   "language": "python",
   "name": "python3"
  },
  "language_info": {
   "codemirror_mode": {
    "name": "ipython",
    "version": 3
   },
   "file_extension": ".py",
   "mimetype": "text/x-python",
   "name": "python",
   "nbconvert_exporter": "python",
   "pygments_lexer": "ipython3",
   "version": "3.11.9"
  }
 },
 "nbformat": 4,
 "nbformat_minor": 2
}
