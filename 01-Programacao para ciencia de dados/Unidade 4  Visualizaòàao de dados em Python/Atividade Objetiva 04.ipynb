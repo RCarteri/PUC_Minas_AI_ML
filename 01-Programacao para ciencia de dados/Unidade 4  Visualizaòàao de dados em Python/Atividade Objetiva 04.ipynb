{
 "cells": [
  {
   "cell_type": "markdown",
   "metadata": {},
   "source": [
    "Pergunta 13 pts\n",
    "No comando plot, um string de formatação é um parâmetro opcional que permite definir até três formatações básicas ao plotar um conjunto de dados: cor, marcador e estilo da linha. \n",
    "Grupo de escolhas da pergunta\n",
    "\n",
    "Verdadeiro\n",
    "\n",
    "Falso\n",
    " \n",
    "Sinalizar pergunta: Pergunta 2\n",
    "Pergunta 23 pts\n",
    "Seja o trecho abaixo:\n",
    "\n",
    "plt.plot([2, 5, 6, 8, 1, 9])\n",
    "plt.plot([9, 2, 7, 8, 3, 5])\n",
    "plt.plot([1, 2, 3, 4, 5, 6])\n",
    "Podemos afirmar que serão gerados três gráficos diferentes, um para cada conjunto de dados.\n",
    "\n",
    "Grupo de escolhas da pergunta\n",
    "\n",
    "Verdadeiro\n",
    "\n",
    "Falso\n",
    " \n",
    "Sinalizar pergunta: Pergunta 3\n",
    "Pergunta 33 pts\n",
    "Todas as alternativas abaixo correspondem a bibliotecas de visualização do Python, exceto:\n",
    "Grupo de escolhas da pergunta\n",
    "\n",
    "ggplot2\n",
    "\n",
    "matplotlib\n",
    "\n",
    "seaborn\n",
    "\n",
    "bokeh\n",
    "\n",
    "plotly\n",
    " \n",
    "Sinalizar pergunta: Pergunta 4\n",
    "Pergunta 43 pts\n",
    "A visualização de um conjunto de dados no matplotlib é feita através da geração de uma figura com sobreposição de elementos como eixos, grid, ticks, linhas, barras, legenda, etc.\n",
    "Grupo de escolhas da pergunta\n",
    "\n",
    "Verdadeiro\n",
    "\n",
    "Falso\n",
    " \n",
    "Sinalizar pergunta: Pergunta 5\n",
    "Pergunta 53 pts\n",
    "Marque a alternativa que mostra as camadas do matplotlib:\n",
    "Grupo de escolhas da pergunta\n",
    "\n",
    "Backend, Artist e Scripting\n",
    "\n",
    "Back-end, Front-end e Scripting\n",
    "\n",
    "Backend, Artist e pyplot\n",
    "\n",
    "Figure, Axes e Axis"
   ]
  },
  {
   "cell_type": "markdown",
   "metadata": {},
   "source": [
    "### Pergunta 2\n",
    "\n",
    "Suponha o DataFrame df possua as colunas A, B, C e D. Marque abaixo as alternativas que removem a coluna C (e não apenas retornem o DataFrame sem a coluna) do DataFrame df, deixando apenas as colunas A, B e D.\n",
    "Grupo de escolhas da pergunta\n",
    "\n",
    "**A) df.drop(\"C\", axis = 1, inplace=True)**\n",
    "\n",
    "**B) df = df.drop(\"C\", axis=1)**\n",
    "\n",
    "C) df.drop(\"C\", axis=1)\n",
    "\n",
    "D) df.drop(\"C\", axis = 0, inplace=True)"
   ]
  },
  {
   "cell_type": "markdown",
   "metadata": {},
   "source": [
    "### Pergunta 3\n",
    "Assim como o ndarray do NumPy, os objetos DataFrame e Series do Pandas possuem o atributo shape que é utilizado para verificar e manipular as dimensões dessas estruturas de dados.\n",
    "Grupo de escolhas da pergunta\n",
    "\n",
    "A) True\n",
    "\n",
    "**B) False**"
   ]
  },
  {
   "cell_type": "markdown",
   "metadata": {},
   "source": [
    "## Pergunta 4\n",
    "\n",
    "Considere o trecho a seguir:\n",
    "\n",
    "```\n",
    "import pandas as pd\n",
    "nomes = (\"Minas Gerais\", \"Amazonas\", \"Maranhão\", \"Goiás\", \"Santa Catarina\")\n",
    "siglas = (\"MG\", \"AM\", \"MA\", \"GO\", \"SC\")\n",
    "estados = pd.Series(siglas, nomes)\n",
    "Podemos afirmar que será criado um objeto Series no qual os índices são as siglas dos estados.\n",
    "```\n",
    "\n",
    "A) True\n",
    "\n",
    "**B) False**"
   ]
  },
  {
   "cell_type": "code",
   "execution_count": 3,
   "metadata": {},
   "outputs": [
    {
     "data": {
      "text/plain": [
       "Minas Gerais      MG\n",
       "Amazonas          AM\n",
       "Maranhão          MA\n",
       "Goiás             GO\n",
       "Santa Catarina    SC\n",
       "dtype: object"
      ]
     },
     "execution_count": 3,
     "metadata": {},
     "output_type": "execute_result"
    }
   ],
   "source": [
    "import pandas as pd\n",
    "nomes = (\"Minas Gerais\", \"Amazonas\", \"Maranhão\", \"Goiás\", \"Santa Catarina\")\n",
    "siglas = (\"MG\", \"AM\", \"MA\", \"GO\", \"SC\")\n",
    "estados = pd.Series(siglas, nomes)\n",
    "estados"
   ]
  },
  {
   "cell_type": "markdown",
   "metadata": {},
   "source": [
    "### Pergunta 5\n",
    "Por padrão, os métodos do Pandas pd.read_csv  e pd.read_excel retornam um objeto DataFrame mesmo que os dados estejam em apenas 1 dimensão. Para alterar esse comportamento, deve-se passar o parâmetro squeeze = True.\n",
    "\n",
    "**A) True**\n",
    "\n",
    "B) False"
   ]
  },
  {
   "cell_type": "markdown",
   "metadata": {},
   "source": [
    "### Pergunta 6\n",
    "Suponha que o DataFrame df tenha sido criado conforme o código a seguir:\n",
    "\n",
    "df = pd.read_csv(\"dados.csv\")\n",
    "Marque as instruções que podemos utilizar para retornar as primeiras 5 linhas do DataFrame df.\n",
    "\n",
    "**A) df.head()**\n",
    "\n",
    "**B) df.head(5)**\n",
    "\n",
    "C) df.tail() \n",
    "\n",
    "D) df.tail(5) \n",
    "\n",
    "E) df.sample(5) "
   ]
  },
  {
   "cell_type": "markdown",
   "metadata": {},
   "source": []
  }
 ],
 "metadata": {
  "kernelspec": {
   "display_name": "Python 3",
   "language": "python",
   "name": "python3"
  },
  "language_info": {
   "codemirror_mode": {
    "name": "ipython",
    "version": 3
   },
   "file_extension": ".py",
   "mimetype": "text/x-python",
   "name": "python",
   "nbconvert_exporter": "python",
   "pygments_lexer": "ipython3",
   "version": "3.11.9"
  }
 },
 "nbformat": 4,
 "nbformat_minor": 2
}
