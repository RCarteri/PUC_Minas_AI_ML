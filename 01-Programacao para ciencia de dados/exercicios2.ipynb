{
 "cells": [
  {
   "cell_type": "markdown",
   "id": "b2724f83",
   "metadata": {},
   "source": [
    "# Mais Exercícios de Python, NumPy e pandas"
   ]
  },
  {
   "cell_type": "markdown",
   "id": "cf153c15",
   "metadata": {},
   "source": [
    "## Exercícios de Python"
   ]
  },
  {
   "cell_type": "markdown",
   "id": "6cdb4631",
   "metadata": {},
   "source": [
    "### 21. Crie uma função que receba uma string e retorne o número de vogais presentes na string."
   ]
  },
  {
   "cell_type": "code",
   "execution_count": 40,
   "id": "e4384dff",
   "metadata": {},
   "outputs": [],
   "source": [
    "import numpy as np\n",
    "import pandas as pd\n",
    "import random"
   ]
  },
  {
   "cell_type": "code",
   "execution_count": 7,
   "id": "e148b5f2",
   "metadata": {},
   "outputs": [
    {
     "name": "stdout",
     "output_type": "stream",
     "text": [
      "7\n",
      "7\n"
     ]
    }
   ],
   "source": [
    "def get_vogais(palavra):\n",
    "    count = 0\n",
    "    for letra in palavra:\n",
    "        if letra in [\"a\", \"e\", \"i\", \"o\", \"u\"]:\n",
    "            count += 1\n",
    "    return count\n",
    "\n",
    "print(get_vogais(\"paralelepipedo\"))\n",
    "\n",
    "def vogais(palavra):\n",
    "    vogais = \"aeiouAEIOU\"\n",
    "    return sum(1 for letra in palavra if letra in vogais)\n",
    "\n",
    "print(vogais(\"paralelepipedo\"))"
   ]
  },
  {
   "cell_type": "code",
   "execution_count": null,
   "id": "8245868b",
   "metadata": {},
   "outputs": [],
   "source": [
    "# Resposta:\n",
    "def conta_vogais(s):\n",
    "    vogais = 'aeiouAEIOU'\n",
    "    return sum(1 for char in s if char in vogais)\n",
    "\n",
    "print(conta_vogais('Exemplo de string'))"
   ]
  },
  {
   "cell_type": "markdown",
   "id": "0825ed5e",
   "metadata": {},
   "source": [
    "### 22. Crie uma lista de palavras e ordene-a em ordem alfabética."
   ]
  },
  {
   "cell_type": "code",
   "execution_count": 8,
   "id": "ddf7ac5d",
   "metadata": {},
   "outputs": [
    {
     "data": {
      "text/plain": [
       "['abacate', 'abacaxi', 'mamao']"
      ]
     },
     "execution_count": 8,
     "metadata": {},
     "output_type": "execute_result"
    }
   ],
   "source": [
    "lista = [\"abacate\", \"mamao\", \"abacaxi\"]\n",
    "lista.sort()\n",
    "lista"
   ]
  },
  {
   "cell_type": "code",
   "execution_count": null,
   "id": "6e2fac6d",
   "metadata": {},
   "outputs": [],
   "source": [
    "# Resposta:\n",
    "palavras = ['banana', 'abacaxi', 'laranja', 'manga']\n",
    "palavras.sort()\n",
    "print(palavras)"
   ]
  },
  {
   "cell_type": "markdown",
   "id": "475e3f02",
   "metadata": {},
   "source": [
    "### 23. Crie uma função que receba um número e retorne True se for primo, caso contrário, False."
   ]
  },
  {
   "cell_type": "code",
   "execution_count": 28,
   "id": "262ee515",
   "metadata": {},
   "outputs": [],
   "source": [
    "def is_primo(number):\n",
    "    if number > 1:\n",
    "        for i in range(2, number):\n",
    "            if number % i == 0:\n",
    "                print(number, 'não é primo')\n",
    "                break\n",
    "            else:\n",
    "                print(number, 'é primo')\n",
    "                break\n",
    "    elif number <= 2:\n",
    "        print(number, 'não é primo')\n",
    "\n",
    "\n",
    "is_primo(2)"
   ]
  },
  {
   "cell_type": "code",
   "execution_count": 29,
   "id": "d8085f83",
   "metadata": {},
   "outputs": [
    {
     "name": "stdout",
     "output_type": "stream",
     "text": [
      "True\n"
     ]
    }
   ],
   "source": [
    "# Resposta:\n",
    "def eh_primo(n):\n",
    "    if n <= 1:\n",
    "        return False\n",
    "    for i in range(2, int(n**0.5) + 1):\n",
    "        if n % i == 0:\n",
    "            return False\n",
    "    return True\n",
    "\n",
    "print(eh_primo(2))"
   ]
  },
  {
   "cell_type": "markdown",
   "id": "4f71f015",
   "metadata": {},
   "source": [
    "### 24. Crie uma lista de dicionários com dados de alunos (nome, idade, nota) e ordene a lista pela nota em ordem decrescente."
   ]
  },
  {
   "cell_type": "code",
   "execution_count": 39,
   "id": "b0dd97f0",
   "metadata": {},
   "outputs": [
    {
     "data": {
      "text/plain": [
       "[{'nome': 'Bruno', 'idade': 22, 'nota': 90},\n",
       " {'nome': 'Carlos', 'idade': 21, 'nota': 88},\n",
       " {'nome': 'Ana', 'idade': 20, 'nota': 85}]"
      ]
     },
     "execution_count": 39,
     "metadata": {},
     "output_type": "execute_result"
    }
   ],
   "source": [
    "alunos = [\n",
    "    {'nome': 'Ana', 'idade': 20, 'nota': 85},\n",
    "    {'nome': 'Bruno', 'idade': 22, 'nota': 90},\n",
    "    {'nome': 'Carlos', 'idade': 21, 'nota': 88}\n",
    "]\n",
    "\n",
    "alunos.sort(key=lambda aluno: aluno['nota'], reverse=True)\n",
    "alunos"
   ]
  },
  {
   "cell_type": "code",
   "execution_count": null,
   "id": "0baf0609",
   "metadata": {},
   "outputs": [],
   "source": [
    "# Resposta:\n",
    "alunos = [\n",
    "    {'nome': 'Ana', 'idade': 20, 'nota': 85},\n",
    "    {'nome': 'Bruno', 'idade': 22, 'nota': 90},\n",
    "    {'nome': 'Carlos', 'idade': 21, 'nota': 88}\n",
    "]\n",
    "alunos.sort(key=lambda x: x['nota'], reverse=True)\n",
    "print(alunos)"
   ]
  },
  {
   "cell_type": "markdown",
   "id": "6893cb12",
   "metadata": {},
   "source": [
    "### 25. Crie um gerador que produza os números de 1 a 10."
   ]
  },
  {
   "cell_type": "code",
   "execution_count": 59,
   "id": "a52ee88a",
   "metadata": {},
   "outputs": [
    {
     "data": {
      "text/plain": [
       "7"
      ]
     },
     "execution_count": 59,
     "metadata": {},
     "output_type": "execute_result"
    }
   ],
   "source": [
    "ger = random.randint(1,11)\n",
    "ger"
   ]
  },
  {
   "cell_type": "code",
   "execution_count": 60,
   "id": "2a840057",
   "metadata": {},
   "outputs": [
    {
     "name": "stdout",
     "output_type": "stream",
     "text": [
      "1\n",
      "2\n",
      "3\n",
      "4\n",
      "5\n",
      "6\n",
      "7\n",
      "8\n",
      "9\n",
      "10\n"
     ]
    }
   ],
   "source": [
    "# Resposta:\n",
    "def gerador():\n",
    "    for i in range(1, 11):\n",
    "        yield i\n",
    "\n",
    "for numero in gerador():\n",
    "    print(numero)"
   ]
  },
  {
   "cell_type": "markdown",
   "id": "79ad013e",
   "metadata": {},
   "source": [
    "## Exercícios de NumPy"
   ]
  },
  {
   "cell_type": "markdown",
   "id": "853b11ad",
   "metadata": {},
   "source": [
    "### 26. Crie um array NumPy de 10 elementos igualmente espaçados entre 0 e 1 e exiba-o."
   ]
  },
  {
   "cell_type": "code",
   "execution_count": 62,
   "id": "e41bb473",
   "metadata": {},
   "outputs": [
    {
     "data": {
      "text/plain": [
       "array([0.        , 0.11111111, 0.22222222, 0.33333333, 0.44444444,\n",
       "       0.55555556, 0.66666667, 0.77777778, 0.88888889, 1.        ])"
      ]
     },
     "execution_count": 62,
     "metadata": {},
     "output_type": "execute_result"
    }
   ],
   "source": [
    "lista = np.linspace(0,1,10)\n",
    "lista"
   ]
  },
  {
   "cell_type": "code",
   "execution_count": null,
   "id": "7565f6d3",
   "metadata": {},
   "outputs": [],
   "source": [
    "# Resposta:\n",
    "array_espaçado = np.linspace(0, 1, 10)\n",
    "print(array_espaçado)"
   ]
  },
  {
   "cell_type": "markdown",
   "id": "cceb2729",
   "metadata": {},
   "source": [
    "### 27. Crie um array NumPy com 20 números inteiros aleatórios entre 1 e 100 e exiba-o."
   ]
  },
  {
   "cell_type": "code",
   "execution_count": 67,
   "id": "ce4c1d60",
   "metadata": {},
   "outputs": [
    {
     "data": {
      "text/plain": [
       "array([10, 85, 17, 58, 60, 65, 96, 91, 72, 47, 93,  6, 34, 87, 40, 21, 27,\n",
       "       49, 95,  5])"
      ]
     },
     "execution_count": 67,
     "metadata": {},
     "output_type": "execute_result"
    }
   ],
   "source": [
    "lista = np.random.randint(1,101,20)\n",
    "lista"
   ]
  },
  {
   "cell_type": "code",
   "execution_count": null,
   "id": "6940f4ab",
   "metadata": {},
   "outputs": [],
   "source": [
    "# Resposta:\n",
    "array_aleatorio = np.random.randint(1, 101, 20)\n",
    "print(array_aleatorio)"
   ]
  },
  {
   "cell_type": "markdown",
   "id": "54a312a4",
   "metadata": {},
   "source": [
    "### 28. Encontre o valor mínimo e o valor máximo do array criado no exercício anterior e exiba-os."
   ]
  },
  {
   "cell_type": "code",
   "execution_count": 69,
   "id": "1c140796",
   "metadata": {},
   "outputs": [
    {
     "name": "stdout",
     "output_type": "stream",
     "text": [
      "5 96\n"
     ]
    }
   ],
   "source": [
    "print(np.min(lista), np.max(lista))"
   ]
  },
  {
   "cell_type": "code",
   "execution_count": null,
   "id": "f37d710b",
   "metadata": {},
   "outputs": [],
   "source": [
    "# Resposta:\n",
    "valor_minimo = np.min(array_aleatorio)\n",
    "valor_maximo = np.max(array_aleatorio)\n",
    "print(f'Mínimo: {valor_minimo}, Máximo: {valor_maximo}')"
   ]
  },
  {
   "cell_type": "markdown",
   "id": "2e519286",
   "metadata": {},
   "source": [
    "### 29. Calcule a variância e o desvio padrão dos valores do array criado no exercício 27 e exiba-os."
   ]
  },
  {
   "cell_type": "code",
   "execution_count": 71,
   "id": "b545440f",
   "metadata": {},
   "outputs": [
    {
     "name": "stdout",
     "output_type": "stream",
     "text": [
      "967.79 31.109323361333335\n"
     ]
    }
   ],
   "source": [
    "print(np.var(lista), np.std(lista))"
   ]
  },
  {
   "cell_type": "code",
   "execution_count": null,
   "id": "0c30793b",
   "metadata": {},
   "outputs": [],
   "source": [
    "# Resposta:\n",
    "variancia = np.var(array_aleatorio)\n",
    "desvio_padrao = np.std(array_aleatorio)\n",
    "print(f'Variância: {variancia}, Desvio Padrão: {desvio_padrao}')"
   ]
  },
  {
   "cell_type": "markdown",
   "id": "31430bfb",
   "metadata": {},
   "source": [
    "### 30. Crie uma matriz 4x4 com valores de 0 a 15 e exiba-a."
   ]
  },
  {
   "cell_type": "code",
   "execution_count": 72,
   "id": "00d7b459",
   "metadata": {},
   "outputs": [
    {
     "data": {
      "text/plain": [
       "array([[11,  0, 14,  1],\n",
       "       [ 9,  6,  3, 11],\n",
       "       [10,  1, 15,  9],\n",
       "       [11, 15,  4,  0]])"
      ]
     },
     "execution_count": 72,
     "metadata": {},
     "output_type": "execute_result"
    }
   ],
   "source": [
    "mt = np.random.randint(0,16,(4,4))\n",
    "mt"
   ]
  },
  {
   "cell_type": "code",
   "execution_count": null,
   "id": "7f250fa5",
   "metadata": {},
   "outputs": [],
   "source": [
    "# Resposta:\n",
    "matriz = np.arange(16).reshape(4, 4)\n",
    "print(matriz)"
   ]
  },
  {
   "cell_type": "markdown",
   "id": "c1f355fb",
   "metadata": {},
   "source": [
    "### 31. Calcule a transposta da matriz criada no exercício anterior e exiba-a."
   ]
  },
  {
   "cell_type": "code",
   "execution_count": 73,
   "id": "0bfff660",
   "metadata": {},
   "outputs": [
    {
     "data": {
      "text/plain": [
       "array([[11,  9, 10, 11],\n",
       "       [ 0,  6,  1, 15],\n",
       "       [14,  3, 15,  4],\n",
       "       [ 1, 11,  9,  0]])"
      ]
     },
     "execution_count": 73,
     "metadata": {},
     "output_type": "execute_result"
    }
   ],
   "source": [
    "mt.T"
   ]
  },
  {
   "cell_type": "code",
   "execution_count": null,
   "id": "37d345b0",
   "metadata": {},
   "outputs": [],
   "source": [
    "# Resposta:\n",
    "matriz_transposta = matriz.T\n",
    "print(matriz_transposta)"
   ]
  },
  {
   "cell_type": "markdown",
   "id": "b4f0c144",
   "metadata": {},
   "source": [
    "### 32. Crie uma matriz 3x3 de valores booleanos onde True indica valores maiores que 5."
   ]
  },
  {
   "cell_type": "code",
   "execution_count": 77,
   "id": "ab491619",
   "metadata": {},
   "outputs": [
    {
     "name": "stdout",
     "output_type": "stream",
     "text": [
      "[[ True False  True False]\n",
      " [ True  True False  True]\n",
      " [ True False  True  True]\n",
      " [ True  True False False]]\n"
     ]
    },
    {
     "data": {
      "text/plain": [
       "array([[False, False, False],\n",
       "       [False, False, False],\n",
       "       [ True,  True,  True]])"
      ]
     },
     "execution_count": 77,
     "metadata": {},
     "output_type": "execute_result"
    }
   ],
   "source": [
    "mb = mt > 5\n",
    "print(mb)\n",
    "\n",
    "m = np.arange(9).reshape(3,3) > 5\n",
    "m"
   ]
  },
  {
   "cell_type": "code",
   "execution_count": null,
   "id": "5026f4af",
   "metadata": {},
   "outputs": [],
   "source": [
    "# Resposta:\n",
    "matriz_booleana = np.random.randint(1, 10, (3, 3)) > 5\n",
    "print(matriz_booleana)"
   ]
  },
  {
   "cell_type": "markdown",
   "id": "f8f9a8aa",
   "metadata": {},
   "source": [
    "### 33. Crie um array de 10 elementos e substitua todos os valores pares por -1."
   ]
  },
  {
   "cell_type": "code",
   "execution_count": 80,
   "id": "5400ca92",
   "metadata": {},
   "outputs": [
    {
     "data": {
      "text/plain": [
       "array([-1,  1, -1,  3, -1,  5, -1,  7, -1,  9])"
      ]
     },
     "execution_count": 80,
     "metadata": {},
     "output_type": "execute_result"
    }
   ],
   "source": [
    "a = np.arange(10)\n",
    "a[(a % 2 == 0)] = -1\n",
    "a"
   ]
  },
  {
   "cell_type": "code",
   "execution_count": null,
   "id": "df90b6e5",
   "metadata": {},
   "outputs": [],
   "source": [
    "# Resposta:\n",
    "array = np.arange(10)\n",
    "array[array % 2 == 0] = -1\n",
    "print(array)"
   ]
  },
  {
   "cell_type": "markdown",
   "id": "b2f70687",
   "metadata": {},
   "source": [
    "## Exercícios de pandas"
   ]
  },
  {
   "cell_type": "markdown",
   "id": "c73b48ca",
   "metadata": {},
   "source": [
    "### 34. Carregue o arquivo CSV criado anteriormente para um DataFrame."
   ]
  },
  {
   "cell_type": "code",
   "execution_count": 81,
   "id": "4128957d",
   "metadata": {},
   "outputs": [
    {
     "data": {
      "text/html": [
       "<div>\n",
       "<style scoped>\n",
       "    .dataframe tbody tr th:only-of-type {\n",
       "        vertical-align: middle;\n",
       "    }\n",
       "\n",
       "    .dataframe tbody tr th {\n",
       "        vertical-align: top;\n",
       "    }\n",
       "\n",
       "    .dataframe thead th {\n",
       "        text-align: right;\n",
       "    }\n",
       "</style>\n",
       "<table border=\"1\" class=\"dataframe\">\n",
       "  <thead>\n",
       "    <tr style=\"text-align: right;\">\n",
       "      <th></th>\n",
       "      <th>A</th>\n",
       "      <th>B</th>\n",
       "      <th>C</th>\n",
       "    </tr>\n",
       "  </thead>\n",
       "  <tbody>\n",
       "    <tr>\n",
       "      <th>0</th>\n",
       "      <td>1</td>\n",
       "      <td>4</td>\n",
       "      <td>7</td>\n",
       "    </tr>\n",
       "    <tr>\n",
       "      <th>1</th>\n",
       "      <td>2</td>\n",
       "      <td>5</td>\n",
       "      <td>8</td>\n",
       "    </tr>\n",
       "    <tr>\n",
       "      <th>2</th>\n",
       "      <td>3</td>\n",
       "      <td>6</td>\n",
       "      <td>9</td>\n",
       "    </tr>\n",
       "    <tr>\n",
       "      <th>3</th>\n",
       "      <td>1</td>\n",
       "      <td>7</td>\n",
       "      <td>10</td>\n",
       "    </tr>\n",
       "    <tr>\n",
       "      <th>4</th>\n",
       "      <td>2</td>\n",
       "      <td>8</td>\n",
       "      <td>11</td>\n",
       "    </tr>\n",
       "  </tbody>\n",
       "</table>\n",
       "</div>"
      ],
      "text/plain": [
       "   A  B   C\n",
       "0  1  4   7\n",
       "1  2  5   8\n",
       "2  3  6   9\n",
       "3  1  7  10\n",
       "4  2  8  11"
      ]
     },
     "execution_count": 81,
     "metadata": {},
     "output_type": "execute_result"
    }
   ],
   "source": [
    "df = pd.read_csv(\"ex_19.csv\")"
   ]
  },
  {
   "cell_type": "code",
   "execution_count": null,
   "id": "f0a00383",
   "metadata": {},
   "outputs": [],
   "source": [
    "# Resposta:\n",
    "df_csv = pd.read_csv('exercicio_19.csv')\n",
    "print(df_csv)"
   ]
  },
  {
   "cell_type": "markdown",
   "id": "8f49ebf4",
   "metadata": {},
   "source": [
    "### 35. Exiba as primeiras 5 linhas do DataFrame carregado."
   ]
  },
  {
   "cell_type": "code",
   "execution_count": 82,
   "id": "096cca8b",
   "metadata": {},
   "outputs": [
    {
     "data": {
      "text/html": [
       "<div>\n",
       "<style scoped>\n",
       "    .dataframe tbody tr th:only-of-type {\n",
       "        vertical-align: middle;\n",
       "    }\n",
       "\n",
       "    .dataframe tbody tr th {\n",
       "        vertical-align: top;\n",
       "    }\n",
       "\n",
       "    .dataframe thead th {\n",
       "        text-align: right;\n",
       "    }\n",
       "</style>\n",
       "<table border=\"1\" class=\"dataframe\">\n",
       "  <thead>\n",
       "    <tr style=\"text-align: right;\">\n",
       "      <th></th>\n",
       "      <th>A</th>\n",
       "      <th>B</th>\n",
       "      <th>C</th>\n",
       "    </tr>\n",
       "  </thead>\n",
       "  <tbody>\n",
       "    <tr>\n",
       "      <th>0</th>\n",
       "      <td>1</td>\n",
       "      <td>4</td>\n",
       "      <td>7</td>\n",
       "    </tr>\n",
       "    <tr>\n",
       "      <th>1</th>\n",
       "      <td>2</td>\n",
       "      <td>5</td>\n",
       "      <td>8</td>\n",
       "    </tr>\n",
       "    <tr>\n",
       "      <th>2</th>\n",
       "      <td>3</td>\n",
       "      <td>6</td>\n",
       "      <td>9</td>\n",
       "    </tr>\n",
       "    <tr>\n",
       "      <th>3</th>\n",
       "      <td>1</td>\n",
       "      <td>7</td>\n",
       "      <td>10</td>\n",
       "    </tr>\n",
       "    <tr>\n",
       "      <th>4</th>\n",
       "      <td>2</td>\n",
       "      <td>8</td>\n",
       "      <td>11</td>\n",
       "    </tr>\n",
       "  </tbody>\n",
       "</table>\n",
       "</div>"
      ],
      "text/plain": [
       "   A  B   C\n",
       "0  1  4   7\n",
       "1  2  5   8\n",
       "2  3  6   9\n",
       "3  1  7  10\n",
       "4  2  8  11"
      ]
     },
     "execution_count": 82,
     "metadata": {},
     "output_type": "execute_result"
    }
   ],
   "source": [
    "df.head()"
   ]
  },
  {
   "cell_type": "code",
   "execution_count": null,
   "id": "f63d9a11",
   "metadata": {},
   "outputs": [],
   "source": [
    "# Resposta:\n",
    "print(df_csv.head())"
   ]
  },
  {
   "cell_type": "code",
   "execution_count": 83,
   "id": "27e5e3f9",
   "metadata": {},
   "outputs": [
    {
     "data": {
      "text/plain": [
       "Index(['A', 'B', 'C'], dtype='object')"
      ]
     },
     "execution_count": 83,
     "metadata": {},
     "output_type": "execute_result"
    }
   ],
   "source": [
    "df.columns"
   ]
  },
  {
   "cell_type": "markdown",
   "id": "afdacd5f",
   "metadata": {},
   "source": [
    "### 36. Exiba os nomes das colunas do DataFrame."
   ]
  },
  {
   "cell_type": "code",
   "execution_count": null,
   "id": "725a091a",
   "metadata": {},
   "outputs": [],
   "source": [
    "# Resposta:\n",
    "print(df_csv.columns)"
   ]
  },
  {
   "cell_type": "markdown",
   "id": "0f2befce",
   "metadata": {},
   "source": [
    "### 37. Filtre as linhas do DataFrame onde o valor da coluna 'C' é maior que 10."
   ]
  },
  {
   "cell_type": "code",
   "execution_count": 84,
   "id": "8e63059c",
   "metadata": {},
   "outputs": [
    {
     "data": {
      "text/html": [
       "<div>\n",
       "<style scoped>\n",
       "    .dataframe tbody tr th:only-of-type {\n",
       "        vertical-align: middle;\n",
       "    }\n",
       "\n",
       "    .dataframe tbody tr th {\n",
       "        vertical-align: top;\n",
       "    }\n",
       "\n",
       "    .dataframe thead th {\n",
       "        text-align: right;\n",
       "    }\n",
       "</style>\n",
       "<table border=\"1\" class=\"dataframe\">\n",
       "  <thead>\n",
       "    <tr style=\"text-align: right;\">\n",
       "      <th></th>\n",
       "      <th>A</th>\n",
       "      <th>B</th>\n",
       "      <th>C</th>\n",
       "    </tr>\n",
       "  </thead>\n",
       "  <tbody>\n",
       "    <tr>\n",
       "      <th>4</th>\n",
       "      <td>2</td>\n",
       "      <td>8</td>\n",
       "      <td>11</td>\n",
       "    </tr>\n",
       "    <tr>\n",
       "      <th>5</th>\n",
       "      <td>3</td>\n",
       "      <td>9</td>\n",
       "      <td>12</td>\n",
       "    </tr>\n",
       "  </tbody>\n",
       "</table>\n",
       "</div>"
      ],
      "text/plain": [
       "   A  B   C\n",
       "4  2  8  11\n",
       "5  3  9  12"
      ]
     },
     "execution_count": 84,
     "metadata": {},
     "output_type": "execute_result"
    }
   ],
   "source": [
    "df[df[\"C\"] > 10]"
   ]
  },
  {
   "cell_type": "code",
   "execution_count": null,
   "id": "20f9fa26",
   "metadata": {},
   "outputs": [],
   "source": [
    "# Resposta:\n",
    "df_filtrado = df_csv[df_csv['C'] > 10]\n",
    "print(df_filtrado)"
   ]
  },
  {
   "cell_type": "markdown",
   "id": "04da9887",
   "metadata": {},
   "source": [
    "### 38. Adicione uma nova coluna 'D' ao DataFrame com os valores sendo a soma das colunas 'B' e 'C'."
   ]
  },
  {
   "cell_type": "code",
   "execution_count": 87,
   "id": "20e15e3b",
   "metadata": {},
   "outputs": [
    {
     "data": {
      "text/html": [
       "<div>\n",
       "<style scoped>\n",
       "    .dataframe tbody tr th:only-of-type {\n",
       "        vertical-align: middle;\n",
       "    }\n",
       "\n",
       "    .dataframe tbody tr th {\n",
       "        vertical-align: top;\n",
       "    }\n",
       "\n",
       "    .dataframe thead th {\n",
       "        text-align: right;\n",
       "    }\n",
       "</style>\n",
       "<table border=\"1\" class=\"dataframe\">\n",
       "  <thead>\n",
       "    <tr style=\"text-align: right;\">\n",
       "      <th></th>\n",
       "      <th>A</th>\n",
       "      <th>B</th>\n",
       "      <th>C</th>\n",
       "      <th>D</th>\n",
       "    </tr>\n",
       "  </thead>\n",
       "  <tbody>\n",
       "    <tr>\n",
       "      <th>0</th>\n",
       "      <td>1</td>\n",
       "      <td>4</td>\n",
       "      <td>7</td>\n",
       "      <td>11</td>\n",
       "    </tr>\n",
       "    <tr>\n",
       "      <th>1</th>\n",
       "      <td>2</td>\n",
       "      <td>5</td>\n",
       "      <td>8</td>\n",
       "      <td>13</td>\n",
       "    </tr>\n",
       "    <tr>\n",
       "      <th>2</th>\n",
       "      <td>3</td>\n",
       "      <td>6</td>\n",
       "      <td>9</td>\n",
       "      <td>15</td>\n",
       "    </tr>\n",
       "    <tr>\n",
       "      <th>3</th>\n",
       "      <td>1</td>\n",
       "      <td>7</td>\n",
       "      <td>10</td>\n",
       "      <td>17</td>\n",
       "    </tr>\n",
       "    <tr>\n",
       "      <th>4</th>\n",
       "      <td>2</td>\n",
       "      <td>8</td>\n",
       "      <td>11</td>\n",
       "      <td>19</td>\n",
       "    </tr>\n",
       "    <tr>\n",
       "      <th>5</th>\n",
       "      <td>3</td>\n",
       "      <td>9</td>\n",
       "      <td>12</td>\n",
       "      <td>21</td>\n",
       "    </tr>\n",
       "  </tbody>\n",
       "</table>\n",
       "</div>"
      ],
      "text/plain": [
       "   A  B   C   D\n",
       "0  1  4   7  11\n",
       "1  2  5   8  13\n",
       "2  3  6   9  15\n",
       "3  1  7  10  17\n",
       "4  2  8  11  19\n",
       "5  3  9  12  21"
      ]
     },
     "execution_count": 87,
     "metadata": {},
     "output_type": "execute_result"
    }
   ],
   "source": [
    "df[\"D\"] = df[\"B\"] + df[\"C\"]\n",
    "df"
   ]
  },
  {
   "cell_type": "code",
   "execution_count": null,
   "id": "5c75344a",
   "metadata": {},
   "outputs": [],
   "source": [
    "# Resposta:\n",
    "df_csv['D'] = df_csv['B'] + df_csv['C']\n",
    "print(df_csv)"
   ]
  },
  {
   "cell_type": "markdown",
   "id": "b0576f4a",
   "metadata": {},
   "source": [
    "### 39. Remova a coluna 'A' do DataFrame."
   ]
  },
  {
   "cell_type": "code",
   "execution_count": 90,
   "id": "ece8478e",
   "metadata": {},
   "outputs": [
    {
     "data": {
      "text/html": [
       "<div>\n",
       "<style scoped>\n",
       "    .dataframe tbody tr th:only-of-type {\n",
       "        vertical-align: middle;\n",
       "    }\n",
       "\n",
       "    .dataframe tbody tr th {\n",
       "        vertical-align: top;\n",
       "    }\n",
       "\n",
       "    .dataframe thead th {\n",
       "        text-align: right;\n",
       "    }\n",
       "</style>\n",
       "<table border=\"1\" class=\"dataframe\">\n",
       "  <thead>\n",
       "    <tr style=\"text-align: right;\">\n",
       "      <th></th>\n",
       "      <th>B</th>\n",
       "      <th>C</th>\n",
       "      <th>D</th>\n",
       "    </tr>\n",
       "  </thead>\n",
       "  <tbody>\n",
       "    <tr>\n",
       "      <th>0</th>\n",
       "      <td>4</td>\n",
       "      <td>7</td>\n",
       "      <td>11</td>\n",
       "    </tr>\n",
       "    <tr>\n",
       "      <th>1</th>\n",
       "      <td>5</td>\n",
       "      <td>8</td>\n",
       "      <td>13</td>\n",
       "    </tr>\n",
       "    <tr>\n",
       "      <th>2</th>\n",
       "      <td>6</td>\n",
       "      <td>9</td>\n",
       "      <td>15</td>\n",
       "    </tr>\n",
       "    <tr>\n",
       "      <th>3</th>\n",
       "      <td>7</td>\n",
       "      <td>10</td>\n",
       "      <td>17</td>\n",
       "    </tr>\n",
       "    <tr>\n",
       "      <th>4</th>\n",
       "      <td>8</td>\n",
       "      <td>11</td>\n",
       "      <td>19</td>\n",
       "    </tr>\n",
       "    <tr>\n",
       "      <th>5</th>\n",
       "      <td>9</td>\n",
       "      <td>12</td>\n",
       "      <td>21</td>\n",
       "    </tr>\n",
       "  </tbody>\n",
       "</table>\n",
       "</div>"
      ],
      "text/plain": [
       "   B   C   D\n",
       "0  4   7  11\n",
       "1  5   8  13\n",
       "2  6   9  15\n",
       "3  7  10  17\n",
       "4  8  11  19\n",
       "5  9  12  21"
      ]
     },
     "execution_count": 90,
     "metadata": {},
     "output_type": "execute_result"
    }
   ],
   "source": [
    "df.drop(\"A\", axis=1, inplace= True)\n",
    "df"
   ]
  },
  {
   "cell_type": "code",
   "execution_count": null,
   "id": "752540f3",
   "metadata": {},
   "outputs": [],
   "source": [
    "# Resposta:\n",
    "df_csv.drop('A', axis=1, inplace=True)\n",
    "print(df_csv)"
   ]
  },
  {
   "cell_type": "markdown",
   "id": "1c6ed2f1",
   "metadata": {},
   "source": [
    "### 40. Renomeie a coluna 'D' para 'Total'."
   ]
  },
  {
   "cell_type": "code",
   "execution_count": 92,
   "id": "87161bb7",
   "metadata": {},
   "outputs": [
    {
     "data": {
      "text/html": [
       "<div>\n",
       "<style scoped>\n",
       "    .dataframe tbody tr th:only-of-type {\n",
       "        vertical-align: middle;\n",
       "    }\n",
       "\n",
       "    .dataframe tbody tr th {\n",
       "        vertical-align: top;\n",
       "    }\n",
       "\n",
       "    .dataframe thead th {\n",
       "        text-align: right;\n",
       "    }\n",
       "</style>\n",
       "<table border=\"1\" class=\"dataframe\">\n",
       "  <thead>\n",
       "    <tr style=\"text-align: right;\">\n",
       "      <th></th>\n",
       "      <th>B</th>\n",
       "      <th>C</th>\n",
       "      <th>Total</th>\n",
       "    </tr>\n",
       "  </thead>\n",
       "  <tbody>\n",
       "    <tr>\n",
       "      <th>0</th>\n",
       "      <td>4</td>\n",
       "      <td>7</td>\n",
       "      <td>11</td>\n",
       "    </tr>\n",
       "    <tr>\n",
       "      <th>1</th>\n",
       "      <td>5</td>\n",
       "      <td>8</td>\n",
       "      <td>13</td>\n",
       "    </tr>\n",
       "    <tr>\n",
       "      <th>2</th>\n",
       "      <td>6</td>\n",
       "      <td>9</td>\n",
       "      <td>15</td>\n",
       "    </tr>\n",
       "    <tr>\n",
       "      <th>3</th>\n",
       "      <td>7</td>\n",
       "      <td>10</td>\n",
       "      <td>17</td>\n",
       "    </tr>\n",
       "    <tr>\n",
       "      <th>4</th>\n",
       "      <td>8</td>\n",
       "      <td>11</td>\n",
       "      <td>19</td>\n",
       "    </tr>\n",
       "    <tr>\n",
       "      <th>5</th>\n",
       "      <td>9</td>\n",
       "      <td>12</td>\n",
       "      <td>21</td>\n",
       "    </tr>\n",
       "  </tbody>\n",
       "</table>\n",
       "</div>"
      ],
      "text/plain": [
       "   B   C  Total\n",
       "0  4   7     11\n",
       "1  5   8     13\n",
       "2  6   9     15\n",
       "3  7  10     17\n",
       "4  8  11     19\n",
       "5  9  12     21"
      ]
     },
     "execution_count": 92,
     "metadata": {},
     "output_type": "execute_result"
    }
   ],
   "source": [
    "df.rename(columns={'D': 'Total'}, inplace = True)\n",
    "df"
   ]
  },
  {
   "cell_type": "code",
   "execution_count": null,
   "id": "0b368282",
   "metadata": {},
   "outputs": [],
   "source": [
    "# Resposta:\n",
    "df_csv.rename(columns={'D': 'Total'}, inplace=True)\n",
    "print(df_csv)"
   ]
  },
  {
   "cell_type": "markdown",
   "id": "5d82668f",
   "metadata": {},
   "source": [
    "### 41. Salve o DataFrame modificado em um novo arquivo CSV."
   ]
  },
  {
   "cell_type": "code",
   "execution_count": 93,
   "id": "dab1c7f5",
   "metadata": {},
   "outputs": [],
   "source": [
    "df.to_csv(\"novo_df.csv\")"
   ]
  },
  {
   "cell_type": "code",
   "execution_count": null,
   "id": "c8bba142",
   "metadata": {},
   "outputs": [],
   "source": [
    "# Resposta:\n",
    "df_csv.to_csv('exercicio_41.csv', index=False)"
   ]
  },
  {
   "cell_type": "markdown",
   "id": "ee542ed6",
   "metadata": {},
   "source": [
    "### 42. Carregue o novo arquivo CSV para um DataFrame e exiba-o."
   ]
  },
  {
   "cell_type": "code",
   "execution_count": 95,
   "id": "28844695",
   "metadata": {},
   "outputs": [
    {
     "data": {
      "text/html": [
       "<div>\n",
       "<style scoped>\n",
       "    .dataframe tbody tr th:only-of-type {\n",
       "        vertical-align: middle;\n",
       "    }\n",
       "\n",
       "    .dataframe tbody tr th {\n",
       "        vertical-align: top;\n",
       "    }\n",
       "\n",
       "    .dataframe thead th {\n",
       "        text-align: right;\n",
       "    }\n",
       "</style>\n",
       "<table border=\"1\" class=\"dataframe\">\n",
       "  <thead>\n",
       "    <tr style=\"text-align: right;\">\n",
       "      <th></th>\n",
       "      <th>B</th>\n",
       "      <th>C</th>\n",
       "      <th>Total</th>\n",
       "    </tr>\n",
       "  </thead>\n",
       "  <tbody>\n",
       "    <tr>\n",
       "      <th>0</th>\n",
       "      <td>4</td>\n",
       "      <td>7</td>\n",
       "      <td>11</td>\n",
       "    </tr>\n",
       "    <tr>\n",
       "      <th>1</th>\n",
       "      <td>5</td>\n",
       "      <td>8</td>\n",
       "      <td>13</td>\n",
       "    </tr>\n",
       "    <tr>\n",
       "      <th>2</th>\n",
       "      <td>6</td>\n",
       "      <td>9</td>\n",
       "      <td>15</td>\n",
       "    </tr>\n",
       "    <tr>\n",
       "      <th>3</th>\n",
       "      <td>7</td>\n",
       "      <td>10</td>\n",
       "      <td>17</td>\n",
       "    </tr>\n",
       "    <tr>\n",
       "      <th>4</th>\n",
       "      <td>8</td>\n",
       "      <td>11</td>\n",
       "      <td>19</td>\n",
       "    </tr>\n",
       "    <tr>\n",
       "      <th>5</th>\n",
       "      <td>9</td>\n",
       "      <td>12</td>\n",
       "      <td>21</td>\n",
       "    </tr>\n",
       "  </tbody>\n",
       "</table>\n",
       "</div>"
      ],
      "text/plain": [
       "   B   C  Total\n",
       "0  4   7     11\n",
       "1  5   8     13\n",
       "2  6   9     15\n",
       "3  7  10     17\n",
       "4  8  11     19\n",
       "5  9  12     21"
      ]
     },
     "execution_count": 95,
     "metadata": {},
     "output_type": "execute_result"
    }
   ],
   "source": [
    "dfn = pd.read_csv(\"novo_df.csv\")\n",
    "dfn\n",
    "dfn.drop('Unnamed: 0', axis=1, inplace=True)\n",
    "dfn"
   ]
  },
  {
   "cell_type": "code",
   "execution_count": null,
   "id": "143684bf",
   "metadata": {},
   "outputs": [],
   "source": [
    "# Resposta:\n",
    "df_novo = pd.read_csv('exercicio_41.csv')\n",
    "print(df_novo)"
   ]
  },
  {
   "cell_type": "markdown",
   "id": "73a0c1ef",
   "metadata": {},
   "source": [
    "### 43. Agrupe o DataFrame pela coluna 'B' e exiba a média dos valores agrupados."
   ]
  },
  {
   "cell_type": "code",
   "execution_count": 96,
   "id": "b6ba9af9",
   "metadata": {},
   "outputs": [
    {
     "data": {
      "text/html": [
       "<div>\n",
       "<style scoped>\n",
       "    .dataframe tbody tr th:only-of-type {\n",
       "        vertical-align: middle;\n",
       "    }\n",
       "\n",
       "    .dataframe tbody tr th {\n",
       "        vertical-align: top;\n",
       "    }\n",
       "\n",
       "    .dataframe thead th {\n",
       "        text-align: right;\n",
       "    }\n",
       "</style>\n",
       "<table border=\"1\" class=\"dataframe\">\n",
       "  <thead>\n",
       "    <tr style=\"text-align: right;\">\n",
       "      <th></th>\n",
       "      <th>C</th>\n",
       "      <th>Total</th>\n",
       "    </tr>\n",
       "    <tr>\n",
       "      <th>B</th>\n",
       "      <th></th>\n",
       "      <th></th>\n",
       "    </tr>\n",
       "  </thead>\n",
       "  <tbody>\n",
       "    <tr>\n",
       "      <th>4</th>\n",
       "      <td>7.0</td>\n",
       "      <td>11.0</td>\n",
       "    </tr>\n",
       "    <tr>\n",
       "      <th>5</th>\n",
       "      <td>8.0</td>\n",
       "      <td>13.0</td>\n",
       "    </tr>\n",
       "    <tr>\n",
       "      <th>6</th>\n",
       "      <td>9.0</td>\n",
       "      <td>15.0</td>\n",
       "    </tr>\n",
       "    <tr>\n",
       "      <th>7</th>\n",
       "      <td>10.0</td>\n",
       "      <td>17.0</td>\n",
       "    </tr>\n",
       "    <tr>\n",
       "      <th>8</th>\n",
       "      <td>11.0</td>\n",
       "      <td>19.0</td>\n",
       "    </tr>\n",
       "    <tr>\n",
       "      <th>9</th>\n",
       "      <td>12.0</td>\n",
       "      <td>21.0</td>\n",
       "    </tr>\n",
       "  </tbody>\n",
       "</table>\n",
       "</div>"
      ],
      "text/plain": [
       "      C  Total\n",
       "B             \n",
       "4   7.0   11.0\n",
       "5   8.0   13.0\n",
       "6   9.0   15.0\n",
       "7  10.0   17.0\n",
       "8  11.0   19.0\n",
       "9  12.0   21.0"
      ]
     },
     "execution_count": 96,
     "metadata": {},
     "output_type": "execute_result"
    }
   ],
   "source": [
    "dfn.groupby(\"B\").mean()"
   ]
  },
  {
   "cell_type": "code",
   "execution_count": null,
   "id": "ea11deb1",
   "metadata": {},
   "outputs": [],
   "source": [
    "# Resposta:\n",
    "media_agrupada = df_novo.groupby('B').mean()\n",
    "print(media_agrupada)"
   ]
  },
  {
   "cell_type": "markdown",
   "id": "e83f0f49",
   "metadata": {},
   "source": [
    "### 44. Exiba a quantidade de valores únicos na coluna 'C'."
   ]
  },
  {
   "cell_type": "code",
   "execution_count": 100,
   "id": "6103b0aa",
   "metadata": {},
   "outputs": [
    {
     "data": {
      "text/plain": [
       "6"
      ]
     },
     "execution_count": 100,
     "metadata": {},
     "output_type": "execute_result"
    }
   ],
   "source": [
    "dfn[\"C\"].nunique()"
   ]
  },
  {
   "cell_type": "code",
   "execution_count": null,
   "id": "41ffb8f5",
   "metadata": {},
   "outputs": [],
   "source": [
    "# Resposta:\n",
    "valores_unicos = df_novo['C'].nunique()\n",
    "print(valores_unicos)"
   ]
  },
  {
   "cell_type": "markdown",
   "id": "0cd3a75f",
   "metadata": {},
   "source": [
    "### 45. Substitua os valores da coluna 'C' por 'Alto' se forem maiores que 10 e 'Baixo' caso contrário."
   ]
  },
  {
   "cell_type": "code",
   "execution_count": 103,
   "id": "a0af9056",
   "metadata": {},
   "outputs": [
    {
     "data": {
      "text/html": [
       "<div>\n",
       "<style scoped>\n",
       "    .dataframe tbody tr th:only-of-type {\n",
       "        vertical-align: middle;\n",
       "    }\n",
       "\n",
       "    .dataframe tbody tr th {\n",
       "        vertical-align: top;\n",
       "    }\n",
       "\n",
       "    .dataframe thead th {\n",
       "        text-align: right;\n",
       "    }\n",
       "</style>\n",
       "<table border=\"1\" class=\"dataframe\">\n",
       "  <thead>\n",
       "    <tr style=\"text-align: right;\">\n",
       "      <th></th>\n",
       "      <th>B</th>\n",
       "      <th>C</th>\n",
       "      <th>Total</th>\n",
       "    </tr>\n",
       "  </thead>\n",
       "  <tbody>\n",
       "    <tr>\n",
       "      <th>0</th>\n",
       "      <td>4</td>\n",
       "      <td>Baixo</td>\n",
       "      <td>11</td>\n",
       "    </tr>\n",
       "    <tr>\n",
       "      <th>1</th>\n",
       "      <td>5</td>\n",
       "      <td>Baixo</td>\n",
       "      <td>13</td>\n",
       "    </tr>\n",
       "    <tr>\n",
       "      <th>2</th>\n",
       "      <td>6</td>\n",
       "      <td>Baixo</td>\n",
       "      <td>15</td>\n",
       "    </tr>\n",
       "    <tr>\n",
       "      <th>3</th>\n",
       "      <td>7</td>\n",
       "      <td>Baixo</td>\n",
       "      <td>17</td>\n",
       "    </tr>\n",
       "    <tr>\n",
       "      <th>4</th>\n",
       "      <td>8</td>\n",
       "      <td>Alto</td>\n",
       "      <td>19</td>\n",
       "    </tr>\n",
       "    <tr>\n",
       "      <th>5</th>\n",
       "      <td>9</td>\n",
       "      <td>Alto</td>\n",
       "      <td>21</td>\n",
       "    </tr>\n",
       "  </tbody>\n",
       "</table>\n",
       "</div>"
      ],
      "text/plain": [
       "   B      C  Total\n",
       "0  4  Baixo     11\n",
       "1  5  Baixo     13\n",
       "2  6  Baixo     15\n",
       "3  7  Baixo     17\n",
       "4  8   Alto     19\n",
       "5  9   Alto     21"
      ]
     },
     "execution_count": 103,
     "metadata": {},
     "output_type": "execute_result"
    }
   ],
   "source": [
    "dfn[\"C\"] = np.where(dfn[\"C\"] > 10, \"Alto\", \"Baixo\")\n",
    "dfn"
   ]
  },
  {
   "cell_type": "code",
   "execution_count": null,
   "id": "05ff5a01",
   "metadata": {},
   "outputs": [],
   "source": [
    "# Resposta:\n",
    "df_novo['C'] = df_novo['C'].apply(lambda x: 'Alto' if x > 10 else 'Baixo')\n",
    "print(df_novo)"
   ]
  },
  {
   "cell_type": "markdown",
   "id": "938903dd",
   "metadata": {},
   "source": [
    "### 46. Crie um DataFrame a partir de um dicionário onde as chaves são nomes de frutas e os valores são suas respectivas quantidades."
   ]
  },
  {
   "cell_type": "code",
   "execution_count": 107,
   "id": "19fd8fef",
   "metadata": {},
   "outputs": [
    {
     "data": {
      "text/html": [
       "<div>\n",
       "<style scoped>\n",
       "    .dataframe tbody tr th:only-of-type {\n",
       "        vertical-align: middle;\n",
       "    }\n",
       "\n",
       "    .dataframe tbody tr th {\n",
       "        vertical-align: top;\n",
       "    }\n",
       "\n",
       "    .dataframe thead th {\n",
       "        text-align: right;\n",
       "    }\n",
       "</style>\n",
       "<table border=\"1\" class=\"dataframe\">\n",
       "  <thead>\n",
       "    <tr style=\"text-align: right;\">\n",
       "      <th></th>\n",
       "      <th>Frutas</th>\n",
       "      <th>Quantidades</th>\n",
       "    </tr>\n",
       "  </thead>\n",
       "  <tbody>\n",
       "    <tr>\n",
       "      <th>0</th>\n",
       "      <td>Maçã</td>\n",
       "      <td>10</td>\n",
       "    </tr>\n",
       "    <tr>\n",
       "      <th>1</th>\n",
       "      <td>Banana</td>\n",
       "      <td>20</td>\n",
       "    </tr>\n",
       "    <tr>\n",
       "      <th>2</th>\n",
       "      <td>Laranja</td>\n",
       "      <td>15</td>\n",
       "    </tr>\n",
       "  </tbody>\n",
       "</table>\n",
       "</div>"
      ],
      "text/plain": [
       "    Frutas  Quantidades\n",
       "0     Maçã           10\n",
       "1   Banana           20\n",
       "2  Laranja           15"
      ]
     },
     "execution_count": 107,
     "metadata": {},
     "output_type": "execute_result"
    }
   ],
   "source": [
    "dados_frutas = {'Maçã': 10, 'Banana': 20, 'Laranja': 15}\n",
    "df = pd.DataFrame(list(dados_frutas.items()), columns=[\"Frutas\", \"Quantidades\"])\n",
    "df"
   ]
  },
  {
   "cell_type": "code",
   "execution_count": null,
   "id": "80b22cd5",
   "metadata": {},
   "outputs": [],
   "source": [
    "# Resposta:\n",
    "dados_frutas = {'Maçã': 10, 'Banana': 20, 'Laranja': 15}\n",
    "df_frutas = pd.DataFrame(list(dados_frutas.items()), columns=['Fruta', 'Quantidade'])\n",
    "print(df_frutas)"
   ]
  },
  {
   "cell_type": "markdown",
   "id": "cbfdf318",
   "metadata": {},
   "source": [
    "### 47. Crie um DataFrame a partir de listas de dados, onde cada lista representa uma linha do DataFrame."
   ]
  },
  {
   "cell_type": "code",
   "execution_count": 109,
   "id": "89128b88",
   "metadata": {},
   "outputs": [
    {
     "data": {
      "text/html": [
       "<div>\n",
       "<style scoped>\n",
       "    .dataframe tbody tr th:only-of-type {\n",
       "        vertical-align: middle;\n",
       "    }\n",
       "\n",
       "    .dataframe tbody tr th {\n",
       "        vertical-align: top;\n",
       "    }\n",
       "\n",
       "    .dataframe thead th {\n",
       "        text-align: right;\n",
       "    }\n",
       "</style>\n",
       "<table border=\"1\" class=\"dataframe\">\n",
       "  <thead>\n",
       "    <tr style=\"text-align: right;\">\n",
       "      <th></th>\n",
       "      <th>Nome</th>\n",
       "      <th>Idade</th>\n",
       "      <th>Tamanho</th>\n",
       "    </tr>\n",
       "  </thead>\n",
       "  <tbody>\n",
       "    <tr>\n",
       "      <th>0</th>\n",
       "      <td>joao</td>\n",
       "      <td>25</td>\n",
       "      <td>M</td>\n",
       "    </tr>\n",
       "    <tr>\n",
       "      <th>1</th>\n",
       "      <td>maria</td>\n",
       "      <td>23</td>\n",
       "      <td>M</td>\n",
       "    </tr>\n",
       "    <tr>\n",
       "      <th>2</th>\n",
       "      <td>carla</td>\n",
       "      <td>22</td>\n",
       "      <td>P</td>\n",
       "    </tr>\n",
       "  </tbody>\n",
       "</table>\n",
       "</div>"
      ],
      "text/plain": [
       "    Nome  Idade Tamanho\n",
       "0   joao     25       M\n",
       "1  maria     23       M\n",
       "2  carla     22       P"
      ]
     },
     "execution_count": 109,
     "metadata": {},
     "output_type": "execute_result"
    }
   ],
   "source": [
    "lista = [[\"joao\", 25, \"M\"],[\"maria\", 23, \"M\"],[\"carla\", 22, \"P\"]]\n",
    "df = pd.DataFrame(lista, columns=['Nome', 'Idade', \"Tamanho\"])\n",
    "df"
   ]
  },
  {
   "cell_type": "code",
   "execution_count": null,
   "id": "fdce4156",
   "metadata": {},
   "outputs": [],
   "source": [
    "# Resposta:\n",
    "dados_linhas = [\n",
    "    ['João', 25, 'M'],\n",
    "    ['Ana', 22, 'F'],\n",
    "    ['Carlos', 30, 'M']\n",
    "]\n",
    "df_linhas = pd.DataFrame(dados_linhas, columns=['Nome', 'Idade', 'Sexo'])\n",
    "print(df_linhas)"
   ]
  },
  {
   "cell_type": "markdown",
   "id": "795a0f6e",
   "metadata": {},
   "source": [
    "### 48. Exiba o tipo de dados de cada coluna do DataFrame criado no exercício anterior."
   ]
  },
  {
   "cell_type": "code",
   "execution_count": 110,
   "id": "222c13ea",
   "metadata": {},
   "outputs": [
    {
     "data": {
      "text/plain": [
       "Nome       object\n",
       "Idade       int64\n",
       "Tamanho    object\n",
       "dtype: object"
      ]
     },
     "execution_count": 110,
     "metadata": {},
     "output_type": "execute_result"
    }
   ],
   "source": [
    "df.dtypes"
   ]
  },
  {
   "cell_type": "code",
   "execution_count": null,
   "id": "1c6c32f2",
   "metadata": {},
   "outputs": [],
   "source": [
    "# Resposta:\n",
    "print(df_linhas.dtypes)"
   ]
  },
  {
   "cell_type": "markdown",
   "id": "1d376b85",
   "metadata": {},
   "source": [
    "### 49. Converta a coluna 'Idade' do DataFrame anterior para o tipo float."
   ]
  },
  {
   "cell_type": "code",
   "execution_count": 111,
   "id": "dc9030bb",
   "metadata": {},
   "outputs": [
    {
     "data": {
      "text/plain": [
       "Nome        object\n",
       "Idade      float64\n",
       "Tamanho     object\n",
       "dtype: object"
      ]
     },
     "execution_count": 111,
     "metadata": {},
     "output_type": "execute_result"
    }
   ],
   "source": [
    "df['Idade'] = df['Idade'].astype(float)\n",
    "df.dtypes"
   ]
  },
  {
   "cell_type": "code",
   "execution_count": null,
   "id": "4de789e2",
   "metadata": {},
   "outputs": [],
   "source": [
    "# Resposta:\n",
    "df_linhas['Idade'] = df_linhas['Idade'].astype(float)\n",
    "print(df_linhas.dtypes)"
   ]
  },
  {
   "cell_type": "markdown",
   "id": "f76f591a",
   "metadata": {},
   "source": [
    "### 50. Calcule a idade média dos indivíduos no DataFrame criado no exercício 47."
   ]
  },
  {
   "cell_type": "code",
   "execution_count": 114,
   "id": "f5888180",
   "metadata": {},
   "outputs": [
    {
     "data": {
      "text/plain": [
       "23.333333333333332"
      ]
     },
     "execution_count": 114,
     "metadata": {},
     "output_type": "execute_result"
    }
   ],
   "source": [
    "df[\"Idade\"].mean()"
   ]
  },
  {
   "cell_type": "code",
   "execution_count": null,
   "id": "b40e7746",
   "metadata": {},
   "outputs": [],
   "source": [
    "# Resposta:\n",
    "idade_media = df_linhas['Idade'].mean()\n",
    "print(idade_media)"
   ]
  }
 ],
 "metadata": {
  "kernelspec": {
   "display_name": "Python 3",
   "language": "python",
   "name": "python3"
  },
  "language_info": {
   "codemirror_mode": {
    "name": "ipython",
    "version": 3
   },
   "file_extension": ".py",
   "mimetype": "text/x-python",
   "name": "python",
   "nbconvert_exporter": "python",
   "pygments_lexer": "ipython3",
   "version": "3.11.4"
  }
 },
 "nbformat": 4,
 "nbformat_minor": 5
}
