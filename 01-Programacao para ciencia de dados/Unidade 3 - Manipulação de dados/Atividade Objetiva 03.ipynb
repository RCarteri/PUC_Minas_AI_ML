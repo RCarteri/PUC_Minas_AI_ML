{
 "cells": [
  {
   "cell_type": "markdown",
   "metadata": {},
   "source": [
    "### Pergunta 1\n",
    "\n",
    "Podemos afirmar que o DataFrame é um grupo de Series que compartilham um mesmo índice, ou seja, cada coluna de um DataFrame nada mais é do que uma Series.\n",
    "Grupo de escolhas da pergunta\n",
    "\n",
    "**A) True**\n",
    "\n",
    "B) False"
   ]
  },
  {
   "cell_type": "markdown",
   "metadata": {},
   "source": [
    "### Pergunta 2\n",
    "\n",
    "Suponha o DataFrame df possua as colunas A, B, C e D. Marque abaixo as alternativas que removem a coluna C (e não apenas retornem o DataFrame sem a coluna) do DataFrame df, deixando apenas as colunas A, B e D.\n",
    "Grupo de escolhas da pergunta\n",
    "\n",
    "**A) df.drop(\"C\", axis = 1, inplace=True)**\n",
    "\n",
    "**B) df = df.drop(\"C\", axis=1)**\n",
    "\n",
    "C) df.drop(\"C\", axis=1)\n",
    "\n",
    "D) df.drop(\"C\", axis = 0, inplace=True)"
   ]
  },
  {
   "cell_type": "markdown",
   "metadata": {},
   "source": [
    "### Pergunta 3\n",
    "Assim como o ndarray do NumPy, os objetos DataFrame e Series do Pandas possuem o atributo shape que é utilizado para verificar e manipular as dimensões dessas estruturas de dados.\n",
    "Grupo de escolhas da pergunta\n",
    "\n",
    "A) True\n",
    "\n",
    "**B) False**"
   ]
  },
  {
   "cell_type": "markdown",
   "metadata": {},
   "source": [
    "## Pergunta 4\n",
    "\n",
    "Considere o trecho a seguir:\n",
    "\n",
    "```\n",
    "import pandas as pd\n",
    "nomes = (\"Minas Gerais\", \"Amazonas\", \"Maranhão\", \"Goiás\", \"Santa Catarina\")\n",
    "siglas = (\"MG\", \"AM\", \"MA\", \"GO\", \"SC\")\n",
    "estados = pd.Series(siglas, nomes)\n",
    "Podemos afirmar que será criado um objeto Series no qual os índices são as siglas dos estados.\n",
    "```\n",
    "\n",
    "A) True\n",
    "\n",
    "**B) False**"
   ]
  },
  {
   "cell_type": "code",
   "execution_count": 3,
   "metadata": {},
   "outputs": [
    {
     "data": {
      "text/plain": [
       "Minas Gerais      MG\n",
       "Amazonas          AM\n",
       "Maranhão          MA\n",
       "Goiás             GO\n",
       "Santa Catarina    SC\n",
       "dtype: object"
      ]
     },
     "execution_count": 3,
     "metadata": {},
     "output_type": "execute_result"
    }
   ],
   "source": [
    "import pandas as pd\n",
    "nomes = (\"Minas Gerais\", \"Amazonas\", \"Maranhão\", \"Goiás\", \"Santa Catarina\")\n",
    "siglas = (\"MG\", \"AM\", \"MA\", \"GO\", \"SC\")\n",
    "estados = pd.Series(siglas, nomes)\n",
    "estados"
   ]
  },
  {
   "cell_type": "markdown",
   "metadata": {},
   "source": [
    "### Pergunta 5\n",
    "Por padrão, os métodos do Pandas pd.read_csv  e pd.read_excel retornam um objeto DataFrame mesmo que os dados estejam em apenas 1 dimensão. Para alterar esse comportamento, deve-se passar o parâmetro squeeze = True.\n",
    "\n",
    "**A) True**\n",
    "\n",
    "B) False"
   ]
  },
  {
   "cell_type": "markdown",
   "metadata": {},
   "source": [
    "### Pergunta 6\n",
    "Suponha que o DataFrame df tenha sido criado conforme o código a seguir:\n",
    "\n",
    "df = pd.read_csv(\"dados.csv\")\n",
    "Marque as instruções que podemos utilizar para retornar as primeiras 5 linhas do DataFrame df.\n",
    "\n",
    "**A) df.head()**\n",
    "\n",
    "**B) df.head(5)**\n",
    "\n",
    "C) df.tail() \n",
    "\n",
    "D) df.tail(5) \n",
    "\n",
    "E) df.sample(5) "
   ]
  },
  {
   "cell_type": "markdown",
   "metadata": {},
   "source": []
  }
 ],
 "metadata": {
  "kernelspec": {
   "display_name": "Python 3",
   "language": "python",
   "name": "python3"
  },
  "language_info": {
   "codemirror_mode": {
    "name": "ipython",
    "version": 3
   },
   "file_extension": ".py",
   "mimetype": "text/x-python",
   "name": "python",
   "nbconvert_exporter": "python",
   "pygments_lexer": "ipython3",
   "version": "3.11.9"
  }
 },
 "nbformat": 4,
 "nbformat_minor": 2
}
