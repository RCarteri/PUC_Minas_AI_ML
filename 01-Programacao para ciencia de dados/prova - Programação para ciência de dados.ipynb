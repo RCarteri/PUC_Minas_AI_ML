{
 "cells": [
  {
   "cell_type": "markdown",
   "metadata": {},
   "source": [
    "### Pergunta 1\n",
    "Três estruturas de dados fundamentais em Python são as listas (“list”), tuplas (“tuple”) e dicionários (“dict”). A respeito dessas estruturas, é correto afirmar: \n",
    "\n",
    "A) Listas não podem ser modificadas depois de criadas, ao passo que tuplas e dicionários podem.\n",
    "\n",
    "B) Listas podem ser modificadas, mas seu tamanho não pode ser modificado após a criação, ao passo que tuplas e dicionários não têm essa limitação.\n",
    "\n",
    "C) Dicionários e tuplas são indexados por inteiros, ao passo que listas podem ser indexadas por “strings”.\n",
    "\n",
    "**D) Tuplas e listas são indexadas por inteiros, ao passo que dicionários podem ser indexados por “strings”.**\n",
    "\n",
    "E) Dicionários não podem ser modificados depois de criados, ao passo que listas e tuplas podem."
   ]
  },
  {
   "cell_type": "markdown",
   "metadata": {},
   "source": [
    "Vamos analisar as outras opções para confirmar que estão incorretas:\n",
    "\n",
    "Listas não podem ser modificadas depois de criadas, ao passo que tuplas e dicionários podem.\n",
    "\n",
    "Falso. Listas podem ser modificadas depois de criadas, enquanto tuplas não podem ser modificadas. Dicionários também podem ser modificados.\n",
    "Listas podem ser modificadas, mas seu tamanho não pode ser modificado após a criação, ao passo que tuplas e dicionários não têm essa limitação.\n",
    "\n",
    "Falso. Listas podem ser modificadas e seu tamanho pode ser alterado após a criação. Tuplas não podem ser modificadas nem ter seu tamanho alterado. Dicionários podem ser modificados.\n",
    "Dicionários e tuplas são indexados por inteiros, ao passo que listas podem ser indexadas por “strings”.\n",
    "\n",
    "Falso. Listas e tuplas são indexadas por inteiros. Dicionários podem ser indexados por strings (ou outros tipos de chave).\n",
    "Dicionários não podem ser modificados depois de criados, ao passo que listas e tuplas podem.\n",
    "\n",
    "Falso. Dicionários podem ser modificados depois de criados. Listas também podem ser modificadas, mas tuplas não podem."
   ]
  },
  {
   "cell_type": "markdown",
   "metadata": {},
   "source": [
    "### Pergunta 2\n",
    "Suponha a seguinte declaração:\n",
    "\n",
    "estrutura_aninhada = ( [1,2,3],(4,5,6,7),[8,9],( [10,11,12], [(13, 14), 15] ) )\n",
    "Que instrução retornará o número 13?\n",
    "\n",
    "A) Todas as alternativas são inválidas.\n",
    "\n",
    "**B) estrutura_aninhada[3][1][0][0]**\n",
    "\n",
    "C) estrutura_aninhada[14]\n",
    "\n",
    "D) estrutura_aninhada[3][1][0]\n",
    "\n",
    "E) estrutura_aninhada(3)(1)"
   ]
  },
  {
   "cell_type": "code",
   "execution_count": 7,
   "metadata": {},
   "outputs": [
    {
     "data": {
      "text/plain": [
       "13"
      ]
     },
     "execution_count": 7,
     "metadata": {},
     "output_type": "execute_result"
    }
   ],
   "source": [
    "estrutura_aninhada = ( [1,2,3],(4,5,6,7),[8,9],( [10,11,12], [(13, 14), 15] ) )\n",
    "estrutura_aninhada[3][1][0][0]"
   ]
  },
  {
   "cell_type": "markdown",
   "metadata": {},
   "source": [
    "### Pergunta 3\n",
    "Suponha a seguinte declaração:\n",
    "```\n",
    "dic = { \"MG\": {\"Capital\": \"Belo Horizonte\", \n",
    "               \"Cidades\": {1:\"Contagem\", \n",
    "                           2:\"Luiz de Fora\", \n",
    "                           3:\"Sete Lagoas\"}\n",
    "              },\n",
    "        \"SP\": {\"Capital\": \"São Paulo\", \n",
    "               \"Cidades\": {1:\"Campinas\", \n",
    "                           2:\"Piracicaba\",\n",
    "                           3:\"Franca\"}\n",
    "              },\n",
    "        \"RS\": {\"Capital\": \"Porto Alegre\", \n",
    "               \"Cidades\": {1:\"Pelotas\", \n",
    "                           2:\"Gramado\", \n",
    "                           3:\"Canela\"}\n",
    "              } \n",
    "      }\n",
    "```\n",
    "Qual comando devemos utilizar para corrigir o nome da cidade Luiz de Fora para Juiz de Fora?\n",
    "\n",
    "A) dic[\"MG\"][\"Cidades\"][1] = \"Juiz de Fora\"\n",
    "\n",
    "B) dic{\"MG\"}{\"Cidades\"}{1} = \"Juiz de Fora\"\n",
    "\n",
    "C) Nenhuma das alternativas.\n",
    "\n",
    "**D) dic[\"MG\"][\"Cidades\"][2] = \"Juiz de Fora\"**"
   ]
  },
  {
   "cell_type": "code",
   "execution_count": 8,
   "metadata": {},
   "outputs": [
    {
     "data": {
      "text/plain": [
       "{'MG': {'Capital': 'Belo Horizonte',\n",
       "  'Cidades': {1: 'Contagem', 2: 'Juiz de Fora', 3: 'Sete Lagoas'}},\n",
       " 'SP': {'Capital': 'São Paulo',\n",
       "  'Cidades': {1: 'Campinas', 2: 'Piracicaba', 3: 'Franca'}},\n",
       " 'RS': {'Capital': 'Porto Alegre',\n",
       "  'Cidades': {1: 'Pelotas', 2: 'Gramado', 3: 'Canela'}}}"
      ]
     },
     "execution_count": 8,
     "metadata": {},
     "output_type": "execute_result"
    }
   ],
   "source": [
    "dic = { \"MG\": {\"Capital\": \"Belo Horizonte\", \n",
    "               \"Cidades\": {1:\"Contagem\", \n",
    "                           2:\"Luiz de Fora\", \n",
    "                           3:\"Sete Lagoas\"}\n",
    "              },\n",
    "        \"SP\": {\"Capital\": \"São Paulo\", \n",
    "               \"Cidades\": {1:\"Campinas\", \n",
    "                           2:\"Piracicaba\",\n",
    "                           3:\"Franca\"}\n",
    "              },\n",
    "        \"RS\": {\"Capital\": \"Porto Alegre\", \n",
    "               \"Cidades\": {1:\"Pelotas\", \n",
    "                           2:\"Gramado\", \n",
    "                           3:\"Canela\"}\n",
    "              } \n",
    "      }\n",
    "\n",
    "dic[\"MG\"][\"Cidades\"][2] = \"Juiz de Fora\"\n",
    "dic"
   ]
  },
  {
   "cell_type": "markdown",
   "metadata": {},
   "source": [
    "### Pergunta 4\n",
    "Suponha o código Python a seguir:\n",
    "\n",
    "```\n",
    "A = [9, 2, 5, 7]\n",
    "B = [x for x in range(12, 21, 3)]\n",
    "A.append(B)\n",
    "print(A)\n",
    "```\n",
    "\n",
    "Os valores impressos serão:\n",
    "\n",
    "A) [9, 2, 5, 7, [12, 15, 18]]\n",
    "\n",
    "B) [9, 2, 5, 7, [12, 15, 18, 21]]\n",
    "\n",
    "C) [9, 2, 5, 7, 12, 15, 18]\n",
    "\n",
    "**D) [9, 2, 5, 7, [12, 15, 18]]**"
   ]
  },
  {
   "cell_type": "code",
   "execution_count": 9,
   "metadata": {},
   "outputs": [
    {
     "name": "stdout",
     "output_type": "stream",
     "text": [
      "[9, 2, 5, 7, [12, 15, 18]]\n"
     ]
    }
   ],
   "source": [
    "A = [9, 2, 5, 7]\n",
    "B = [x for x in range(12,21,3)]\n",
    "A.append(B)\n",
    "print(A)"
   ]
  },
  {
   "cell_type": "markdown",
   "metadata": {},
   "source": [
    "### Pergunta 5\n",
    "Suponha que a tupla XYZ contenha 5 elementos. Como você mudaria seu terceiro elemento para 'Python'?\n",
    "\n",
    "A) teste[2] = 'Python'\n",
    "\n",
    "B) teste{3} = 'Python'\n",
    "\n",
    "C) teste(2) = 'Python'\n",
    "\n",
    "**D) Elementos das tuplas não podem ser alterados.**\n",
    "\n",
    "E) teste[3] = 'Python'"
   ]
  },
  {
   "cell_type": "code",
   "execution_count": 10,
   "metadata": {},
   "outputs": [
    {
     "ename": "TypeError",
     "evalue": "'tuple' object does not support item assignment",
     "output_type": "error",
     "traceback": [
      "\u001b[1;31m---------------------------------------------------------------------------\u001b[0m",
      "\u001b[1;31mTypeError\u001b[0m                                 Traceback (most recent call last)",
      "Cell \u001b[1;32mIn[10], line 2\u001b[0m\n\u001b[0;32m      1\u001b[0m teste \u001b[38;5;241m=\u001b[39m (\u001b[38;5;241m1\u001b[39m,\u001b[38;5;241m2\u001b[39m,\u001b[38;5;241m3\u001b[39m,\u001b[38;5;241m4\u001b[39m,\u001b[38;5;241m5\u001b[39m)\n\u001b[1;32m----> 2\u001b[0m \u001b[43mteste\u001b[49m\u001b[43m[\u001b[49m\u001b[38;5;241;43m2\u001b[39;49m\u001b[43m]\u001b[49m \u001b[38;5;241m=\u001b[39m \u001b[38;5;124m'\u001b[39m\u001b[38;5;124mPython\u001b[39m\u001b[38;5;124m'\u001b[39m\n",
      "\u001b[1;31mTypeError\u001b[0m: 'tuple' object does not support item assignment"
     ]
    }
   ],
   "source": [
    "teste = (1,2,3,4,5)\n",
    "teste[2] = 'Python'"
   ]
  },
  {
   "cell_type": "markdown",
   "metadata": {},
   "source": [
    "### Pergunta 6\n",
    "Python fornece 3 operadores de divisão. O operador ____/____ calcula a divisão real, o operador _____//_____ calcula o quociente, enquanto o operador ___% ___calcula o resto da divisão.\n",
    "\n",
    "Responder 1: Correto! /\n",
    "\n",
    "Responder 2: Correto! //\n",
    "\n",
    "Responder 3: Correto! %"
   ]
  },
  {
   "cell_type": "markdown",
   "metadata": {},
   "source": [
    "### Pergunta 7\n",
    "Considere o trecho do programa Python abaixo:\n",
    "\n",
    "```\n",
    "L=[]\n",
    "for i in range(10, 1, -1):\n",
    "    L.append(i)\n",
    "print(L[3:])\n",
    "```\n",
    "\n",
    "Quais serão os valores impressos?\n",
    "\n",
    "A) [8, 7, 6, 5, 4, 3]\n",
    "\n",
    "B) [8, 7, 6, 5, 4, 3, 2]\n",
    "\n",
    "**C) [7, 6, 5, 4, 3, 2]**\n",
    "\n",
    "D) [7, 6, 5, 4, 3, 2, 1]\n",
    "\n",
    "E) Nenhum valor será impresso, pois o programa apresenta um erro."
   ]
  },
  {
   "cell_type": "code",
   "execution_count": null,
   "metadata": {},
   "outputs": [
    {
     "name": "stdout",
     "output_type": "stream",
     "text": [
      "[7, 6, 5, 4, 3, 2]\n"
     ]
    }
   ],
   "source": [
    "L=[]\n",
    "for i in range(10, 1, -1):\n",
    "    L.append(i)\n",
    "print(L[3:])"
   ]
  },
  {
   "cell_type": "markdown",
   "metadata": {},
   "source": [
    "### Pergunta 8\n",
    "Considere o trecho do programa Python abaixo:\n",
    "\n",
    "```\n",
    "def func():\n",
    "    x = 1\n",
    "    print(x)\n",
    "\n",
    "x = 10\n",
    "func()\n",
    "print(x)\n",
    "```\n",
    "\n",
    "Os valores impressos, ao se executar o programa, são, respectivamente:\n",
    "\n",
    "A) 1 e 1.\n",
    "\n",
    "B) 10 e 1.\n",
    "\n",
    "C) 10 e 10.\n",
    "\n",
    "**D) 1 e 10.**\n",
    "\n",
    "E) 10."
   ]
  },
  {
   "cell_type": "code",
   "execution_count": null,
   "metadata": {},
   "outputs": [
    {
     "name": "stdout",
     "output_type": "stream",
     "text": [
      "1\n",
      "10\n"
     ]
    }
   ],
   "source": [
    "def func():\n",
    "    x = 1\n",
    "    print(x)\n",
    "\n",
    "x = 10\n",
    "func()\n",
    "print(x)"
   ]
  },
  {
   "cell_type": "markdown",
   "metadata": {},
   "source": [
    "### Pergunta 9\n",
    "Considere o código a seguir:\n",
    "\n",
    "```\n",
    "from functools import reduce\n",
    "teste = [1, 9, 8, 2, 3, 7, 6, 4, 5]\n",
    "print(reduce(lambda n1, n2: n1 if n1 > n2 else n2, teste))\n",
    "```\n",
    "\n",
    "Qual valor será impresso?\n",
    "\n",
    "A) 1\n",
    "\n",
    "**B) 9**\n",
    "\n",
    "C) 5\n",
    "\n",
    "D) False\n",
    "\n",
    "E) True"
   ]
  },
  {
   "cell_type": "code",
   "execution_count": null,
   "metadata": {},
   "outputs": [
    {
     "name": "stdout",
     "output_type": "stream",
     "text": [
      "9\n"
     ]
    }
   ],
   "source": [
    "from functools import reduce\n",
    "teste = [1, 9, 8, 2, 3, 7, 6, 4, 5]\n",
    "print(reduce(lambda n1, n2: n1 if n1 > n2 else n2, teste))"
   ]
  },
  {
   "cell_type": "markdown",
   "metadata": {},
   "source": [
    "### Pergunta 10\n",
    "Considere o código abaixo que utiliza o módulo Numpy:\n",
    "\n",
    "```\n",
    "import numpy as np\n",
    "A = np.arange(1, 16).reshape(3, 5)\n",
    "print(A[A % 2 == 0][0:4])\n",
    "```\n",
    "Quais serão os valores impressos?\n",
    "\n",
    "**A) [2 4 6 8]**\n",
    "\n",
    "B) [False True False True]\n",
    "\n",
    "C) [2 4 6 8 10]\n",
    "\n",
    "D) [True False True False]\n",
    "\n",
    "E) [0 2 4 6 8]"
   ]
  },
  {
   "cell_type": "code",
   "execution_count": null,
   "metadata": {},
   "outputs": [
    {
     "data": {
      "text/plain": [
       "array([2, 4, 6, 8])"
      ]
     },
     "execution_count": 14,
     "metadata": {},
     "output_type": "execute_result"
    }
   ],
   "source": [
    "import numpy as np\n",
    "A = np.arange(1, 16).reshape(3,5)\n",
    "A[A % 2 == 0][0:4]"
   ]
  }
 ],
 "metadata": {
  "kernelspec": {
   "display_name": "Python 3",
   "language": "python",
   "name": "python3"
  },
  "language_info": {
   "codemirror_mode": {
    "name": "ipython",
    "version": 3
   },
   "file_extension": ".py",
   "mimetype": "text/x-python",
   "name": "python",
   "nbconvert_exporter": "python",
   "pygments_lexer": "ipython3",
   "version": "3.11.9"
  }
 },
 "nbformat": 4,
 "nbformat_minor": 2
}
