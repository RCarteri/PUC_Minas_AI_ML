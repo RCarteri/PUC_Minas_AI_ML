{
 "cells": [
  {
   "cell_type": "markdown",
   "metadata": {},
   "source": [
    "### Pergunta 1\n",
    "\n",
    "Baseado nos estudos realizados na base Acidentes de Trânsito das PBH, avalie a afirmação e assinale como sendo VERDADEIRO ou FALSO:\n",
    "\n",
    "\"A quantidade de mulheres que estão envolvidas em acidentes ao longo dos anos apresenta uma linha de tendência de queda\"\n",
    "\n",
    "**Verdadeiro**\n",
    "\n",
    "Falso\n",
    " "
   ]
  },
  {
   "cell_type": "markdown",
   "metadata": {},
   "source": [
    "### Pergunta 2\n",
    "Baseado nos estudos realizados na base Acidentes de Trânsito das PBH, assinale a alternativa que apresenta a informação correta o Dia da Semana e o Mês que mais tiveram Boletins de Ocorrências no Ano de 2017 na regional Centro-Sul:\n",
    "\n",
    "Observação:\n",
    "\n",
    "Caso seja necessário, altere o tipo de dado da coluna Data da base Boletins para o tipo \"Data\". Depois coloque este campo em Linhas por exemplo, e modifique de Ano para Dia da Semana, através do botão direito do seu mouse, nas opções de datas que são oferecidas na opção Mais...\n",
    "\n",
    "Grupo de escolhas da pergunta\n",
    "\n",
    "**Quarta-feira / Agosto**\n",
    "\n",
    "Sexta-feira / Agosto\n",
    "\n",
    "Domingo / Novembro\n",
    "\n",
    "Segunda-feira / Outubro"
   ]
  },
  {
   "cell_type": "markdown",
   "metadata": {},
   "source": [
    "### Pergunta 3\n",
    "Baseado nos estudos realizados na base Acidentes de Trânsito das PBH, avalie a afirmação e assinale como sendo VERDADEIRO ou FALSO:\n",
    "\n",
    "\"Analisando os dados disponibilizados, no ano de 2016 os bairros Centro e Padre Eustáquio foram os dois que mais registraram números de boletins\"\n",
    "\n",
    "Grupo de escolhas da pergunta\n",
    "\n",
    "**Falso**\n",
    "\n",
    "Verdadeiro"
   ]
  },
  {
   "cell_type": "markdown",
   "metadata": {},
   "source": [
    "### Pergunta 4\n",
    "A imagem abaixo representa a previsão de vendas realizada através da ferramenta Tableau da fornecedora Salesforce:\n",
    "\n",
    "Nessa situação, avalie as afirmações a seguir sobre a construção deste tipo de análise:\n",
    "\n",
    "Para que ocorra a Previsão é necessário que o dado seja do tipo data com dia mês e ano completos;\n",
    "A ferramenta busca padrões sazonais a cada 12 meses de dados;\n",
    "O intervalo de previsão (confiança) padrão é de 95%, mas pode ser configurado para 90 ou 99%;\n",
    "Este recurso de Previsão também pode ser aplicado nas ferramentas Power BI e Excel, por exemplo;\n",
    " \n",
    "\n",
    "É correto o que se afirma em:\n",
    "\n",
    "Grupo de escolhas da pergunta\n",
    "\n",
    "I, II e III, apenas.\n",
    "\n",
    "**I, II, III, e IV, apenas.**\n",
    "\n",
    "I, III, e IV, apenas.\n",
    "\n",
    "II, e III, apenas."
   ]
  },
  {
   "cell_type": "markdown",
   "metadata": {},
   "source": [
    "### Pergunta 5\n",
    "\n",
    "Baseado nos estudos realizados na base Acidentes de Trânsito das PBH, avalie a afirmação e a alternativa que apresenta o resultado correto após aplicação de todos os filtros:\n",
    "\n",
    "\"Analisando os dados disponibilizados, no ano de 2019, para as pessoas Envolvidas nos acidentes indicadas como Condutor e que foi informado que estas pessoas não estavam utilizando Cinto de segurança e registradas com Embriaguez gerou o resultado inferior a 60.\"\n",
    "\n",
    "Grupo de escolhas da pergunta\n",
    "\n",
    "26\n",
    "\n",
    "56\n",
    "\n",
    "**21**\n",
    "\n",
    "31"
   ]
  },
  {
   "cell_type": "markdown",
   "metadata": {},
   "source": []
  }
 ],
 "metadata": {
  "language_info": {
   "name": "python"
  }
 },
 "nbformat": 4,
 "nbformat_minor": 2
}
