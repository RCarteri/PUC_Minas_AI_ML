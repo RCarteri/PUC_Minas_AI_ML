{
 "cells": [
  {
   "cell_type": "markdown",
   "metadata": {},
   "source": [
    "### Pergunta 1\n",
    "Avalie as 03 afirmações abaixo como sendo verdadeiras ou falsas sobre a ferramenta Tableau e assinale a alternativa correspondente.\n",
    "\n",
    "I - No Tableau não se pode criar o recurso Dicas de Ferramentas, como é criado em outras ferramentas.\n",
    "\n",
    "II - Tableau Desktop, é possível criar dashboards interativos que podem ser publicados diretamente no Tableau Server (pago) e Tableau Public, por exemplo.\n",
    "\n",
    "III - O Tableau Desktop não permite a conexão com fontes de dados em tempo real, apenas com arquivos estáticos.\n",
    "\n",
    " \n",
    "\n",
    "  **II, apenas**\n",
    "    Exatamente. Como em outras ferramentas, você consegue criar Dicas de ferramentas utilizando o Tableau e como toda ferramenta OLAP, pode-se conectar em bases para acessos em tempo real e ou estáticos.\n",
    "\n",
    "  I e II, apenas \n",
    "\n",
    "  III, apenas \n",
    "\n",
    "  II e III, apenas "
   ]
  },
  {
   "cell_type": "markdown",
   "metadata": {},
   "source": [
    "### Pergunta 2\n",
    "\n",
    "Analise a imagem abaixo da confecção de um Mapa na ferramenta Power BI, mostrando as localizações dos Estados brasileiros, baseados nas siglas das UFs. Veja que estão espalhadas em outros países diferentemente do Brasil.\n",
    "\n",
    "Desta forma, marque dentre as opções, aquela que apresenta a sintaxe correta que corrigirá este problema ao adotar uma nova coluna:\n",
    "\n",
    "  UFs Brasil = [UF] + ', Brasil' \n",
    "\n",
    "  UFs Brasil = [UF] || \", Brasil\" \n",
    "  \n",
    "  UFs Brasil = [UF] + ', ' + 'Brasil' \n",
    "  \n",
    "  **UFs Brasil = [UF] & \", Brasil\"**\n",
    "Exatamente. Criando esta nova coluna com esta sintaxe UFs Brasil = [UF] & \", Brasil\" os estados serão posicionados nos locais corretos."
   ]
  },
  {
   "cell_type": "markdown",
   "metadata": {},
   "source": [
    "### Pergunta 3\n",
    "\n",
    "Assinale Verdade ou Falso para afirmação a seguir sobre criar Previsão na ferramenta Tableau.\n",
    "\n",
    "\"Para produzir uma previsão, basta ter uma série temporal com a coluna Ano, não sendo necessária a utilização da coluna data completa.\"\n",
    "\n",
    "**Falso** \n",
    "CORRETO. É necessária a coluna data com dia/mês/ano e uma boa base histórica para isso.\n",
    "  \n",
    "  Verdadeiro "
   ]
  },
  {
   "cell_type": "markdown",
   "metadata": {},
   "source": [
    "## Pergunta 4\n",
    "\n",
    "Sobre os conceitos da ferramenta Tableau, assinale a alternativa VERDADEIRA dentre as alternativas abaixo:\n",
    "  \n",
    "  Apenas as siglas dos Estados do Brasil, presentes em uma determinada base de dados, utilizando um Windows (utilizando as Configurações Regionais) em português, não é suficiente para que o \n",
    "  \n",
    "  Tableau posicione corretamente em um mapa. \n",
    "  \n",
    "  Compartilhamento das informações depende da TI. \n",
    "  \n",
    "  Possui o gráfico de Rosca nativo. \n",
    "  \n",
    "  **As visualizações não tem interações entre elas, por definição. Mas no Painel, ações podem ser criadas para que isso ocorra.**\n",
    "Exatamente. No Tableau as interações entre as visualizações não ocorre de forma automática, como ocorre com o Power BI, por exemplo. "
   ]
  },
  {
   "cell_type": "markdown",
   "metadata": {},
   "source": [
    "### Pergunta 5\n",
    "\n",
    "Assinale Verdade ou Falso para afirmação a seguir sobre utilização do nome de cidades na ferramenta Tableau.\n",
    "\n",
    "Caso seus dados não apresentem a Latitude e Longitude e apenas o nome das cidades, você poderá utilizá-lo desde que, o nome das cidades tenha pelo menos 50 mil habitantes.\n",
    "\n",
    "  **Falso**\n",
    "Exatamente. Veja o artigo da Tableau Links to an external site.que mostra as opções para georrefenciar.\n",
    "  \n",
    "  Verdadeiro "
   ]
  },
  {
   "cell_type": "markdown",
   "metadata": {},
   "source": []
  }
 ],
 "metadata": {
  "language_info": {
   "name": "python"
  }
 },
 "nbformat": 4,
 "nbformat_minor": 2
}
