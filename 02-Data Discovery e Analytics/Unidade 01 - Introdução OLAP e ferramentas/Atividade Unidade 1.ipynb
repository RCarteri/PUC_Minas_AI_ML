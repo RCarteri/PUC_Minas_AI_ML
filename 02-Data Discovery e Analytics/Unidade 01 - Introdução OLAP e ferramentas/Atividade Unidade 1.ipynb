{
 "cells": [
  {
   "cell_type": "markdown",
   "metadata": {},
   "source": [
    "### Pergunta 1\n",
    "Analise a afirmativa abaixo e marque Verdadeiro ou Falso:\n",
    "\n",
    "\"As ferramentas de Self Service BI se enquadram dentro das ferramentas OLAP.\"\n",
    "\n",
    "  Falso \n",
    "  \n",
    "  **Verdadeiro**\n",
    "\n",
    "Verdade. As ferramentas de Self Service BI pertencem as ferramentas OLAP. Alguns autores chamam estas ferramentas do BI 2.0, mas tem as mesmas características das 12 regras definidas por E.F.Codd (1993)."
   ]
  },
  {
   "cell_type": "markdown",
   "metadata": {},
   "source": [
    "### Pergunta 2\n",
    "Analise a afirmativa abaixo e marque Verdadeiro ou Falso sobre os Sistemas de Suporte à Decisão:\n",
    "\n",
    "\"Um sistema de suporte à decisão é um sistema que proporciona aos seus usuários, não só um acesso rápido à \"sua\" informação, mas também capacidade para realizar a sua análise e formatação à medida das \"suas\" necessidades.\"\n",
    "\n",
    "  Falso \n",
    "\n",
    "  **Verdadeiro**\n",
    "\n",
    "Exatamente. Os SSD proporcionam aos usuários acesso rápido as análises para tomada de decisão."
   ]
  },
  {
   "cell_type": "markdown",
   "metadata": {},
   "source": [
    "### Pergunta 3 \n",
    "Dentre as alternativas abaixo sobre a arquitetura das ferramentas OLAP, marque aquela que é utilizada para se conectar somente a base de dados multidimensionais.\n",
    "https://docs.microsoft.com/pt-br/sql/analysis-services/analysis-services?view=sql-server-2017\n",
    "\n",
    "  DOLAP \n",
    "\n",
    "  HOLAP \n",
    "\n",
    "  ROLAP \n",
    "\n",
    "  **MOLAP** \n",
    "\n",
    "Exatamente. Essa arquitetura permite conectar em bases multidimensionais, como o Analysis Services da Microsoft."
   ]
  },
  {
   "cell_type": "markdown",
   "metadata": {},
   "source": [
    "### Pergunta 4\n",
    "Do lado esquerdo temos operações que podem ser realizadas em um Cubo. Do lado direito temos o tipo da ação. Relacione-as:\n",
    "\n",
    "DRILL DOWN     -> Descer de Região para Estado\n",
    "\n",
    "DRILL UP       -> Subir de Loja para Cidade\n",
    "\n",
    "PIVOT          -> Mudar a visão de Linha para Coluna e vice-versa\n",
    "\n",
    "DRILL ACCROSS  -> Mudar a análise de Cidade direto para País\n",
    "\n",
    "SLICE Analisar -> parte de um Cubo\n"
   ]
  },
  {
   "cell_type": "markdown",
   "metadata": {},
   "source": [
    "### Pergunta 5\n",
    "KPI é uma sigla que vem do inglês para Key Performance Indicator, que são os Indicadores-Chave de Performance.\n",
    "\n",
    "Nessa situação, avalie as afirmações a seguir sobre KPI:\n",
    "\n",
    "I - Trata-se de uma ferramenta de gestão empregada para analisar os indicadores mais importantes de um negócio ou empresa.\n",
    "\n",
    "II - Exigem e promovem a melhoria da capacidade organizacional e da habilidade de articulação e argumentação.\n",
    "\n",
    "III - Os indicadores favorecem a participação e o empoderamento das partes interessadas.\n",
    "\n",
    "É correto o que se afirma sobre KPI em:\n",
    "\n",
    "  III, apenas. \n",
    "\n",
    "  I, III, apenas. \n",
    "\n",
    "  ***I, II e III, apenas.***\n",
    "\n",
    "  Não permite identificar fenômenos e tendências. \n",
    "  \n",
    "  II, III, apenas. "
   ]
  },
  {
   "cell_type": "markdown",
   "metadata": {},
   "source": []
  }
 ],
 "metadata": {
  "language_info": {
   "name": "python"
  }
 },
 "nbformat": 4,
 "nbformat_minor": 2
}
