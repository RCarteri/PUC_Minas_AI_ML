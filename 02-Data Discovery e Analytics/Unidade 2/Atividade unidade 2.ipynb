{
 "cells": [
  {
   "cell_type": "markdown",
   "metadata": {},
   "source": [
    "### Pergunta 1\n",
    "\n",
    "Analise a afirmação abaixo e marque verdadeiro ou falso \n",
    "\n",
    "\"Data-Driven trata-se de uma cultura que a organização deverá adotar para que tudo se molde na orientada a dados para o processo de decisão.\"\n",
    "\n",
    "  **Verdadeiro**\n",
    "Exatamente. Trata-se de uma cultura que seja orientada por dados, utilizando-os como base para qualquer decisão a ser tomada dentro da organização.\n",
    "  \n",
    "  Falso "
   ]
  },
  {
   "cell_type": "markdown",
   "metadata": {},
   "source": [
    "### Pergunta 2\n",
    "\n",
    "Avalie a afirmação a seguir relacionada a Análise Prescritiva e marque VERDADEIRO ou FALSO:\n",
    "\n",
    "\"A análise prescritiva sugere opções que podem ser usadas para tomar decisões futuras e reduzir riscos. Essa ferramenta permite processar dados continuamente, mas não melhorar as previsões para oferecer novas alternativas durante a tomada de decisões..\"\n",
    "\n",
    "  **Falso**\n",
    "Exato. A análise prescritiva sugere opções que podem ser usadas para tomar decisões futuras e reduzir riscos. Essa ferramenta permite processar dados continuamente e melhorar as previsões para oferecer novas alternativas durante a tomada de decisões.\n",
    "  \n",
    "  Verdadeiro "
   ]
  },
  {
   "cell_type": "markdown",
   "metadata": {},
   "source": [
    "### Pergunta 3\n",
    "\n",
    "Avalie as perguntas a seguir relacionadas ao tempo:\n",
    "\n",
    "I - Quanto crescemos nas vendas de março deste ano com relação ao mesmo mês no ano passado e venderemos para o próximo ano?\n",
    "\n",
    "II - Quanto foi vendido no mês passado e venderemos no próximo ano?\n",
    "\n",
    "III - Quanto venderemos de barras de chocolate na próxima Páscoa. \n",
    "\n",
    "É correto o que se afirma sobre Organizações Data Driven em:\n",
    "\n",
    "  I, III, apenas \n",
    "\n",
    "  **I, II e III, apenas**\n",
    "Correto. Organizações Data Driven tem a visão do futuro.\n",
    "  \n",
    "  III, apenas\n",
    "  \n",
    "  II e III, apenas "
   ]
  },
  {
   "cell_type": "markdown",
   "metadata": {},
   "source": [
    "### Pergunta 4\n",
    "\n",
    "Avalie a afirmação a seguir relacionada a Análise Descritiva e marque VERDADEIRO ou FALSO: \n",
    "\n",
    "\"O foco da análise descritiva é compreender se, por trás de um ou mais fenômenos que se repetem, existem tendências ou padrões que possam ser mapeados\"\n",
    "\n",
    "  **Verdadeiro**\n",
    "CORRETO. O foco da análise descritiva é sim compreender se, por trás de um ou mais fenômenos que se repetem, existem tendências ou padrões que possam ser mapeados.\n",
    "  \n",
    "  Falso "
   ]
  },
  {
   "cell_type": "markdown",
   "metadata": {},
   "source": [
    "### Pergunta 5\n",
    "\n",
    "Avalie a afirmação a seguir relacionada a Análise Preditiva e marque VERDADEIRO ou FALSO:\n",
    "\n",
    "\"A análise preditiva tem muita relação com os tradicionais diagnósticos de dados estatísticos. Não por acaso, a maior parte dos modelos preditivos são equações criadas a partir da análise de dados.\"\n",
    "\n",
    "  Falso \n",
    "\n",
    "  **Verdadeiro**\n",
    "Exatamente. A análise preditiva tem muita relação com os tradicionais diagnósticos de dados estatísticos. Não por acaso, a maior parte dos modelos preditivos são regressores, ou seja, equações criadas a partir da análise de dados."
   ]
  },
  {
   "cell_type": "markdown",
   "metadata": {},
   "source": []
  }
 ],
 "metadata": {
  "language_info": {
   "name": "python"
  }
 },
 "nbformat": 4,
 "nbformat_minor": 2
}
